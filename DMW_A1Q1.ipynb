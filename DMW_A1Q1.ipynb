{
  "nbformat": 4,
  "nbformat_minor": 0,
  "metadata": {
    "colab": {
      "name": "DMW_A1Q1.ipynb",
      "provenance": []
    },
    "kernelspec": {
      "name": "python3",
      "display_name": "Python 3"
    },
    "language_info": {
      "name": "python"
    }
  },
  "cells": [
    {
      "cell_type": "markdown",
      "metadata": {
        "id": "uUrOJpSIxKM2"
      },
      "source": [
        "## **Question No. 1**\n",
        "From sklearn.datasets load digits dataset and do following:\n",
        "\n",
        "\n",
        "*   Classify digits (0 to 9) using KNN classifier. You can use different values for k neighbors and need to figure out a value of K that gives you a maximum score. You can manually try different values of K or use gridsearchcv\n",
        "*   Plot confusion matrix\n",
        "*   Plot classification report\n",
        "\n",
        "\n",
        "\n",
        "\n",
        "\n"
      ]
    },
    {
      "cell_type": "code",
      "metadata": {
        "id": "w2WNlfIowts1"
      },
      "source": [
        "#importing the necessary packages\n",
        "from __future__ import print_function\n",
        "from sklearn.model_selection import train_test_split\n",
        "from sklearn.neighbors import KNeighborsClassifier\n",
        "from sklearn.metrics import confusion_matrix\n",
        "from sklearn.metrics import classification_report\n",
        "from sklearn import datasets\n",
        "from skimage import exposure\n",
        "import numpy as np\n",
        "import cv2\n",
        "import matplotlib.pyplot as plt"
      ],
      "execution_count": 101,
      "outputs": []
    },
    {
      "cell_type": "code",
      "metadata": {
        "id": "I0sWEhUN2HTF"
      },
      "source": [
        "mnist= datasets.load_digits()"
      ],
      "execution_count": 102,
      "outputs": []
    },
    {
      "cell_type": "code",
      "metadata": {
        "id": "mi-L7-5C2VQF"
      },
      "source": [
        "(trainData, testData, trainLabels, testLabels) = train_test_split(np.array(mnist.data),\n",
        "mnist.target, test_size=0.15, random_state=42)\n",
        "#85% of data is used for training and 15% for testing purpose\n",
        "# Now let's take 10% of data and use it for Validation\n",
        "(trainData, valData, trainLabels, valLabels) = train_test_split(trainData, trainLabels,\n",
        "test_size=0.1, random_state=84)\n"
      ],
      "execution_count": 103,
      "outputs": []
    },
    {
      "cell_type": "code",
      "metadata": {
        "colab": {
          "base_uri": "https://localhost:8080/"
        },
        "id": "C-Q1me2y289d",
        "outputId": "b88c7e0c-f174-48d2-a04b-bb5cf739d5e9"
      },
      "source": [
        "# show the sizes of each data split\n",
        "\n",
        "print(\"training data points: {}\".format(len(trainLabels)))\n",
        "print(\"testing data points: {}\".format(len(testLabels)))\n",
        "print(\"validation data points: {}\".format(len(valLabels)))"
      ],
      "execution_count": 104,
      "outputs": [
        {
          "output_type": "stream",
          "name": "stdout",
          "text": [
            "training data points: 1374\n",
            "testing data points: 270\n",
            "validation data points: 153\n"
          ]
        }
      ]
    },
    {
      "cell_type": "code",
      "metadata": {
        "colab": {
          "base_uri": "https://localhost:8080/"
        },
        "id": "qbuO4npA3eUd",
        "outputId": "bb3b788b-686e-473a-a9da-7cbb53a5be9d"
      },
      "source": [
        "# initialize the values of k for our k-Nearest Neighbor classifier along with the\n",
        "# list of accuracies for each value of k\n",
        "\n",
        "kList = range(1, 50, 2)\n",
        "accuracies = []\n",
        "\n",
        "# loop over various values of k for the k-Nearest Neighbor classifier\n",
        "\n",
        "for k in range(1, 50, 2):\n",
        "          # train the k-Nearest Neighbor classifier with the current value of k\n",
        "          model = KNeighborsClassifier(n_neighbors=k)\n",
        "          model.fit(trainData, trainLabels)\n",
        "          # evaluate the model and update the accuracies list\n",
        "          score = model.score(valData, valLabels)\n",
        "          print(\"For k=%d, accuracy = %.2f%%\" % (k, score * 100))\n",
        "          accuracies.append(score)"
      ],
      "execution_count": 105,
      "outputs": [
        {
          "output_type": "stream",
          "name": "stdout",
          "text": [
            "For k=1, accuracy = 98.04%\n",
            "For k=3, accuracy = 98.69%\n",
            "For k=5, accuracy = 98.69%\n",
            "For k=7, accuracy = 96.73%\n",
            "For k=9, accuracy = 98.04%\n",
            "For k=11, accuracy = 97.39%\n",
            "For k=13, accuracy = 97.39%\n",
            "For k=15, accuracy = 97.39%\n",
            "For k=17, accuracy = 96.73%\n",
            "For k=19, accuracy = 96.08%\n",
            "For k=21, accuracy = 96.73%\n",
            "For k=23, accuracy = 96.08%\n",
            "For k=25, accuracy = 96.08%\n",
            "For k=27, accuracy = 95.42%\n",
            "For k=29, accuracy = 94.77%\n",
            "For k=31, accuracy = 94.77%\n",
            "For k=33, accuracy = 94.77%\n",
            "For k=35, accuracy = 94.77%\n",
            "For k=37, accuracy = 94.77%\n",
            "For k=39, accuracy = 94.12%\n",
            "For k=41, accuracy = 94.12%\n",
            "For k=43, accuracy = 92.81%\n",
            "For k=45, accuracy = 92.16%\n",
            "For k=47, accuracy = 92.16%\n",
            "For k=49, accuracy = 92.16%\n"
          ]
        }
      ]
    },
    {
      "cell_type": "code",
      "metadata": {
        "colab": {
          "base_uri": "https://localhost:8080/"
        },
        "id": "1X06P7gE35m9",
        "outputId": "2ca92c86-c71e-437d-a54c-e8fd42aed636"
      },
      "source": [
        "# find the value of k that has the largest accuracy\n",
        "\n",
        "i = np.argmax(accuracies)\n",
        "print(\"k=%d achieved highest accuracy of %.2f%% on validation data\" % (kList[i],accuracies[i] * 100))"
      ],
      "execution_count": 106,
      "outputs": [
        {
          "output_type": "stream",
          "name": "stdout",
          "text": [
            "k=3 achieved highest accuracy of 98.69% on validation data\n"
          ]
        }
      ]
    },
    {
      "cell_type": "code",
      "metadata": {
        "colab": {
          "base_uri": "https://localhost:8080/"
        },
        "id": "C1Ee61mUeloG",
        "outputId": "dff56e1d-747f-4f45-876b-be801abfe455"
      },
      "source": [
        "# re-train our classifier using the best k value and predict the labels of the\n",
        "# test data\n",
        "\n",
        "model = KNeighborsClassifier(n_neighbors=kList[i])\n",
        "model.fit(trainData, trainLabels)\n",
        "predictions = model.predict(testData)\n",
        "print(predictions[1])"
      ],
      "execution_count": 107,
      "outputs": [
        {
          "output_type": "stream",
          "name": "stdout",
          "text": [
            "9\n"
          ]
        }
      ]
    },
    {
      "cell_type": "code",
      "metadata": {
        "colab": {
          "base_uri": "https://localhost:8080/"
        },
        "id": "SOMuKrYtep-t",
        "outputId": "6964f6c3-6758-4ae3-f688-67541f703a87"
      },
      "source": [
        "# show a final classification report demonstrating the accuracy of the classifier\n",
        "# for each of the digits\n",
        "\n",
        "print(\"EVALUATION ON TESTING DATA\\n\")\n",
        "print(classification_report(testLabels, predictions))\n",
        "\n",
        "print (\"------- Confusion matrix -------\")\n",
        "print(confusion_matrix(testLabels,predictions))"
      ],
      "execution_count": 108,
      "outputs": [
        {
          "output_type": "stream",
          "name": "stdout",
          "text": [
            "EVALUATION ON TESTING DATA\n",
            "\n",
            "              precision    recall  f1-score   support\n",
            "\n",
            "           0       1.00      1.00      1.00        23\n",
            "           1       0.95      1.00      0.97        18\n",
            "           2       1.00      1.00      1.00        26\n",
            "           3       1.00      1.00      1.00        24\n",
            "           4       0.97      1.00      0.99        37\n",
            "           5       0.97      1.00      0.99        33\n",
            "           6       1.00      1.00      1.00        30\n",
            "           7       1.00      0.96      0.98        26\n",
            "           8       0.95      0.95      0.95        19\n",
            "           9       0.97      0.91      0.94        34\n",
            "\n",
            "    accuracy                           0.98       270\n",
            "   macro avg       0.98      0.98      0.98       270\n",
            "weighted avg       0.98      0.98      0.98       270\n",
            "\n",
            "------- Confusion matrix -------\n",
            "[[23  0  0  0  0  0  0  0  0  0]\n",
            " [ 0 18  0  0  0  0  0  0  0  0]\n",
            " [ 0  0 26  0  0  0  0  0  0  0]\n",
            " [ 0  0  0 24  0  0  0  0  0  0]\n",
            " [ 0  0  0  0 37  0  0  0  0  0]\n",
            " [ 0  0  0  0  0 33  0  0  0  0]\n",
            " [ 0  0  0  0  0  0 30  0  0  0]\n",
            " [ 0  0  0  0  0  0  0 25  0  1]\n",
            " [ 0  1  0  0  0  0  0  0 18  0]\n",
            " [ 0  0  0  0  1  1  0  0  1 31]]\n"
          ]
        }
      ]
    },
    {
      "cell_type": "code",
      "metadata": {
        "colab": {
          "base_uri": "https://localhost:8080/",
          "height": 1000
        },
        "id": "nFSOr8KOeyI-",
        "outputId": "92838758-3cf1-4db6-ff8c-60dbb7b72ace"
      },
      "source": [
        "# loop over a few random digits\n",
        "\n",
        "for i in np.random.randint(0, high=len(testLabels), size=(5,)):\n",
        "         # grab the image and classify it\n",
        "         image = testData[i]\n",
        "         prediction = model.predict([image])[0]\n",
        "         \n",
        "         # show the prediction\n",
        "         \n",
        "         imgdata = np.array(image, dtype='float')\n",
        "         pixels = imgdata.reshape((8,8))\n",
        "         plt.imshow(pixels,cmap='gray')\n",
        "         plt.annotate(prediction,(3,3),bbox={'facecolor':'white'},fontsize=16)\n",
        "         plt.show()\n",
        "         cv2.waitKey(0)\n",
        "         print(\"The digit may be : {}\\n\\n\".format(prediction))"
      ],
      "execution_count": 109,
      "outputs": [
        {
          "output_type": "display_data",
          "data": {
            "image/png": "[encoded data removed]",
            "text/plain": [
              "<Figure size 432x288 with 1 Axes>"
            ]
          },
          "metadata": {}
        },
        {
          "output_type": "stream",
          "name": "stdout",
          "text": [
            "The digit may be : 7\n",
            "\n",
            "\n"
          ]
        },
        {
          "output_type": "display_data",
          "data": {
            "image/png": "[encoded data removed]",
            "text/plain": [
              "<Figure size 432x288 with 1 Axes>"
            ]
          },
          "metadata": {}
        },
        {
          "output_type": "stream",
          "name": "stdout",
          "text": [
            "The digit may be : 2\n",
            "\n",
            "\n"
          ]
        },
        {
          "output_type": "display_data",
          "data": {
            "image/png": "[encoded data removed]",
            "text/plain": [
              "<Figure size 432x288 with 1 Axes>"
            ]
          },
          "metadata": {}
        },
        {
          "output_type": "stream",
          "name": "stdout",
          "text": [
            "The digit may be : 1\n",
            "\n",
            "\n"
          ]
        },
        {
          "output_type": "display_data",
          "data": {
            "image/png": "[encoded data removed]",
            "text/plain": [
              "<Figure size 432x288 with 1 Axes>"
            ]
          },
          "metadata": {}
        },
        {
          "output_type": "stream",
          "name": "stdout",
          "text": [
            "The digit may be : 6\n",
            "\n",
            "\n"
          ]
        },
        {
          "output_type": "display_data",
          "data": {
            "image/png": "[encoded data removed]",
            "text/plain": [
              "<Figure size 432x288 with 1 Axes>"
            ]
          },
          "metadata": {}
        },
        {
          "output_type": "stream",
          "name": "stdout",
          "text": [
            "The digit may be : 5\n",
            "\n",
            "\n"
          ]
        }
      ]
    },
    {
      "cell_type": "code",
      "metadata": {
        "colab": {
          "base_uri": "https://localhost:8080/"
        },
        "id": "mfk0q_6Ze4mN",
        "outputId": "cfcfff45-fc53-4f86-9607-aa5a5bfa3618"
      },
      "source": [
        "# final classification report demonstrating the accuracy of the classifier\n",
        "# for each of the digits\n",
        "\n",
        "print(\"EVALUATION ON TESTING DATA\")\n",
        "print(classification_report(testLabels, predictions))"
      ],
      "execution_count": 110,
      "outputs": [
        {
          "output_type": "stream",
          "name": "stdout",
          "text": [
            "EVALUATION ON TESTING DATA\n",
            "              precision    recall  f1-score   support\n",
            "\n",
            "           0       1.00      1.00      1.00        23\n",
            "           1       0.95      1.00      0.97        18\n",
            "           2       1.00      1.00      1.00        26\n",
            "           3       1.00      1.00      1.00        24\n",
            "           4       0.97      1.00      0.99        37\n",
            "           5       0.97      1.00      0.99        33\n",
            "           6       1.00      1.00      1.00        30\n",
            "           7       1.00      0.96      0.98        26\n",
            "           8       0.95      0.95      0.95        19\n",
            "           9       0.97      0.91      0.94        34\n",
            "\n",
            "    accuracy                           0.98       270\n",
            "   macro avg       0.98      0.98      0.98       270\n",
            "weighted avg       0.98      0.98      0.98       270\n",
            "\n"
          ]
        }
      ]
    }
  ]
}