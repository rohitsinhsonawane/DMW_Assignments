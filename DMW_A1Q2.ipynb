{
  "nbformat": 4,
  "nbformat_minor": 0,
  "metadata": {
    "colab": {
      "name": "DMW_A1Q2.ipynb",
      "provenance": []
    },
    "kernelspec": {
      "name": "python3",
      "display_name": "Python 3"
    },
    "language_info": {
      "name": "python"
    }
  },
  "cells": [
    {
      "cell_type": "markdown",
      "metadata": {
        "id": "J9SWBxSdfms9"
      },
      "source": [
        "# **Question No. 2)**\n",
        "\n",
        "Problem Statement:\n",
        "\n",
        " Build decision tree model to predict survival based on certain parameters CSV file is available to download at  https://www.kaggle.com/c/titanic/data In this file using following columns build a model to predict if person would survive or not,\n",
        "\n",
        "1.   Pclass\n",
        "2.   Sex\n",
        "3.   Age\n",
        "4.   Fare\n",
        "\n",
        "Calculate score of your model.\n"
      ]
    },
    {
      "cell_type": "code",
      "metadata": {
        "id": "BwkY5RdlgV6F"
      },
      "source": [
        "import pandas as pd                                 #Implementing multidimensional array and matrices \n",
        "import numpy as np                                  #Data manupulation and analysis\n",
        "import matplotlib.pyplot as plt                     #Plotting graphs \n",
        "import seaborn as sns                               #High level statistical graphics\n",
        "%matplotlib inline\n",
        "sns.set()\n",
        "\n",
        "from subprocess import check_output"
      ],
      "execution_count": 27,
      "outputs": []
    },
    {
      "cell_type": "markdown",
      "metadata": {
        "id": "_y-ewtEXge5l"
      },
      "source": [
        "Importing Dataset"
      ]
    },
    {
      "cell_type": "code",
      "metadata": {
        "colab": {
          "base_uri": "https://localhost:8080/",
          "height": 241
        },
        "id": "a3_yZEM8xA63",
        "outputId": "b080db15-65a2-4390-aca0-9b5bf8551abf"
      },
      "source": [
        "titanic_data=pd.read_csv(\"/content/train.csv\")\n",
        "titanic_data.head()"
      ],
      "execution_count": 28,
      "outputs": [
        {
          "output_type": "execute_result",
          "data": {
            "text/html": [
              "<div>\n",
              "<style scoped>\n",
              "    .dataframe tbody tr th:only-of-type {\n",
              "        vertical-align: middle;\n",
              "    }\n",
              "\n",
              "    .dataframe tbody tr th {\n",
              "        vertical-align: top;\n",
              "    }\n",
              "\n",
              "    .dataframe thead th {\n",
              "        text-align: right;\n",
              "    }\n",
              "</style>\n",
              "<table border=\"1\" class=\"dataframe\">\n",
              "  <thead>\n",
              "    <tr style=\"text-align: right;\">\n",
              "      <th></th>\n",
              "      <th>PassengerId</th>\n",
              "      <th>Survived</th>\n",
              "      <th>Pclass</th>\n",
              "      <th>Name</th>\n",
              "      <th>Sex</th>\n",
              "      <th>Age</th>\n",
              "      <th>SibSp</th>\n",
              "      <th>Parch</th>\n",
              "      <th>Ticket</th>\n",
              "      <th>Fare</th>\n",
              "      <th>Cabin</th>\n",
              "      <th>Embarked</th>\n",
              "    </tr>\n",
              "  </thead>\n",
              "  <tbody>\n",
              "    <tr>\n",
              "      <th>0</th>\n",
              "      <td>1</td>\n",
              "      <td>0</td>\n",
              "      <td>3</td>\n",
              "      <td>Braund, Mr. Owen Harris</td>\n",
              "      <td>male</td>\n",
              "      <td>22.0</td>\n",
              "      <td>1</td>\n",
              "      <td>0</td>\n",
              "      <td>A/5 21171</td>\n",
              "      <td>7.2500</td>\n",
              "      <td>NaN</td>\n",
              "      <td>S</td>\n",
              "    </tr>\n",
              "    <tr>\n",
              "      <th>1</th>\n",
              "      <td>2</td>\n",
              "      <td>1</td>\n",
              "      <td>1</td>\n",
              "      <td>Cumings, Mrs. John Bradley (Florence Briggs Th...</td>\n",
              "      <td>female</td>\n",
              "      <td>38.0</td>\n",
              "      <td>1</td>\n",
              "      <td>0</td>\n",
              "      <td>PC 17599</td>\n",
              "      <td>71.2833</td>\n",
              "      <td>C85</td>\n",
              "      <td>C</td>\n",
              "    </tr>\n",
              "    <tr>\n",
              "      <th>2</th>\n",
              "      <td>3</td>\n",
              "      <td>1</td>\n",
              "      <td>3</td>\n",
              "      <td>Heikkinen, Miss. Laina</td>\n",
              "      <td>female</td>\n",
              "      <td>26.0</td>\n",
              "      <td>0</td>\n",
              "      <td>0</td>\n",
              "      <td>STON/O2. 3101282</td>\n",
              "      <td>7.9250</td>\n",
              "      <td>NaN</td>\n",
              "      <td>S</td>\n",
              "    </tr>\n",
              "    <tr>\n",
              "      <th>3</th>\n",
              "      <td>4</td>\n",
              "      <td>1</td>\n",
              "      <td>1</td>\n",
              "      <td>Futrelle, Mrs. Jacques Heath (Lily May Peel)</td>\n",
              "      <td>female</td>\n",
              "      <td>35.0</td>\n",
              "      <td>1</td>\n",
              "      <td>0</td>\n",
              "      <td>113803</td>\n",
              "      <td>53.1000</td>\n",
              "      <td>C123</td>\n",
              "      <td>S</td>\n",
              "    </tr>\n",
              "    <tr>\n",
              "      <th>4</th>\n",
              "      <td>5</td>\n",
              "      <td>0</td>\n",
              "      <td>3</td>\n",
              "      <td>Allen, Mr. William Henry</td>\n",
              "      <td>male</td>\n",
              "      <td>35.0</td>\n",
              "      <td>0</td>\n",
              "      <td>0</td>\n",
              "      <td>373450</td>\n",
              "      <td>8.0500</td>\n",
              "      <td>NaN</td>\n",
              "      <td>S</td>\n",
              "    </tr>\n",
              "  </tbody>\n",
              "</table>\n",
              "</div>"
            ],
            "text/plain": [
              "   PassengerId  Survived  Pclass  ...     Fare Cabin  Embarked\n",
              "0            1         0       3  ...   7.2500   NaN         S\n",
              "1            2         1       1  ...  71.2833   C85         C\n",
              "2            3         1       3  ...   7.9250   NaN         S\n",
              "3            4         1       1  ...  53.1000  C123         S\n",
              "4            5         0       3  ...   8.0500   NaN         S\n",
              "\n",
              "[5 rows x 12 columns]"
            ]
          },
          "metadata": {},
          "execution_count": 28
        }
      ]
    },
    {
      "cell_type": "code",
      "metadata": {
        "colab": {
          "base_uri": "https://localhost:8080/"
        },
        "id": "D6qKBsaCyn3A",
        "outputId": "e0d07a8b-8b00-4010-c979-e0734247d8c5"
      },
      "source": [
        "titanic_data.isnull().sum()"
      ],
      "execution_count": 29,
      "outputs": [
        {
          "output_type": "execute_result",
          "data": {
            "text/plain": [
              "PassengerId      0\n",
              "Survived         0\n",
              "Pclass           0\n",
              "Name             0\n",
              "Sex              0\n",
              "Age            177\n",
              "SibSp            0\n",
              "Parch            0\n",
              "Ticket           0\n",
              "Fare             0\n",
              "Cabin          687\n",
              "Embarked         2\n",
              "dtype: int64"
            ]
          },
          "metadata": {},
          "execution_count": 29
        }
      ]
    },
    {
      "cell_type": "code",
      "metadata": {
        "id": "TE9Yor6Wyq7I"
      },
      "source": [
        "titanic_data.Age.fillna(titanic_data.Age.median(),inplace=True)"
      ],
      "execution_count": 30,
      "outputs": []
    },
    {
      "cell_type": "code",
      "metadata": {
        "colab": {
          "base_uri": "https://localhost:8080/"
        },
        "id": "VOnPQoslyuVY",
        "outputId": "e731e011-5f84-4e47-fa53-677eb0164a50"
      },
      "source": [
        "titanic_data.Fare.replace(0,titanic_data.Fare.median())"
      ],
      "execution_count": 31,
      "outputs": [
        {
          "output_type": "execute_result",
          "data": {
            "text/plain": [
              "0       7.2500\n",
              "1      71.2833\n",
              "2       7.9250\n",
              "3      53.1000\n",
              "4       8.0500\n",
              "        ...   \n",
              "886    13.0000\n",
              "887    30.0000\n",
              "888    23.4500\n",
              "889    30.0000\n",
              "890     7.7500\n",
              "Name: Fare, Length: 891, dtype: float64"
            ]
          },
          "metadata": {},
          "execution_count": 31
        }
      ]
    },
    {
      "cell_type": "code",
      "metadata": {
        "colab": {
          "base_uri": "https://localhost:8080/",
          "height": 206
        },
        "id": "92evGRPsgnpG",
        "outputId": "86f09b3f-9a41-4940-dcde-d605463494df"
      },
      "source": [
        "titanic=titanic_data.drop(['Cabin','Name','Ticket','SibSp','Parch'],axis=1)\n",
        "titanic.head()"
      ],
      "execution_count": 32,
      "outputs": [
        {
          "output_type": "execute_result",
          "data": {
            "text/html": [
              "<div>\n",
              "<style scoped>\n",
              "    .dataframe tbody tr th:only-of-type {\n",
              "        vertical-align: middle;\n",
              "    }\n",
              "\n",
              "    .dataframe tbody tr th {\n",
              "        vertical-align: top;\n",
              "    }\n",
              "\n",
              "    .dataframe thead th {\n",
              "        text-align: right;\n",
              "    }\n",
              "</style>\n",
              "<table border=\"1\" class=\"dataframe\">\n",
              "  <thead>\n",
              "    <tr style=\"text-align: right;\">\n",
              "      <th></th>\n",
              "      <th>PassengerId</th>\n",
              "      <th>Survived</th>\n",
              "      <th>Pclass</th>\n",
              "      <th>Sex</th>\n",
              "      <th>Age</th>\n",
              "      <th>Fare</th>\n",
              "      <th>Embarked</th>\n",
              "    </tr>\n",
              "  </thead>\n",
              "  <tbody>\n",
              "    <tr>\n",
              "      <th>0</th>\n",
              "      <td>1</td>\n",
              "      <td>0</td>\n",
              "      <td>3</td>\n",
              "      <td>male</td>\n",
              "      <td>22.0</td>\n",
              "      <td>7.2500</td>\n",
              "      <td>S</td>\n",
              "    </tr>\n",
              "    <tr>\n",
              "      <th>1</th>\n",
              "      <td>2</td>\n",
              "      <td>1</td>\n",
              "      <td>1</td>\n",
              "      <td>female</td>\n",
              "      <td>38.0</td>\n",
              "      <td>71.2833</td>\n",
              "      <td>C</td>\n",
              "    </tr>\n",
              "    <tr>\n",
              "      <th>2</th>\n",
              "      <td>3</td>\n",
              "      <td>1</td>\n",
              "      <td>3</td>\n",
              "      <td>female</td>\n",
              "      <td>26.0</td>\n",
              "      <td>7.9250</td>\n",
              "      <td>S</td>\n",
              "    </tr>\n",
              "    <tr>\n",
              "      <th>3</th>\n",
              "      <td>4</td>\n",
              "      <td>1</td>\n",
              "      <td>1</td>\n",
              "      <td>female</td>\n",
              "      <td>35.0</td>\n",
              "      <td>53.1000</td>\n",
              "      <td>S</td>\n",
              "    </tr>\n",
              "    <tr>\n",
              "      <th>4</th>\n",
              "      <td>5</td>\n",
              "      <td>0</td>\n",
              "      <td>3</td>\n",
              "      <td>male</td>\n",
              "      <td>35.0</td>\n",
              "      <td>8.0500</td>\n",
              "      <td>S</td>\n",
              "    </tr>\n",
              "  </tbody>\n",
              "</table>\n",
              "</div>"
            ],
            "text/plain": [
              "   PassengerId  Survived  Pclass     Sex   Age     Fare Embarked\n",
              "0            1         0       3    male  22.0   7.2500        S\n",
              "1            2         1       1  female  38.0  71.2833        C\n",
              "2            3         1       3  female  26.0   7.9250        S\n",
              "3            4         1       1  female  35.0  53.1000        S\n",
              "4            5         0       3    male  35.0   8.0500        S"
            ]
          },
          "metadata": {},
          "execution_count": 32
        }
      ]
    },
    {
      "cell_type": "markdown",
      "metadata": {
        "id": "JOEx9U0smlDE"
      },
      "source": [
        "Drawing a pair plot to know the joint relationship between Fare, Age, Pclass, Sex, Survived"
      ]
    },
    {
      "cell_type": "code",
      "metadata": {
        "colab": {
          "base_uri": "https://localhost:8080/",
          "height": 566
        },
        "id": "QEi58JhrmtCl",
        "outputId": "d7098801-ee91-404c-d7c3-fefcefd61533"
      },
      "source": [
        "sns.pairplot(titanic_data[[\"Fare\",\"Age\",\"Pclass\",\"Survived\"]],vars=[\"Fare\",\"Age\",\"Pclass\"],hue='Survived',dropna=False,markers=[0,1],plot_kws={'alpha':1})\n",
        "plt.title('Pair plot')"
      ],
      "execution_count": 33,
      "outputs": [
        {
          "output_type": "execute_result",
          "data": {
            "text/plain": [
              "Text(0.5, 1.0, 'Pair plot')"
            ]
          },
          "metadata": {},
          "execution_count": 33
        },
        {
          "output_type": "display_data",
          "data": {
            "image/png": "[encoded data removed]",
            "text/plain": [
              "<Figure size 601.55x540 with 12 Axes>"
            ]
          },
          "metadata": {}
        }
      ]
    },
    {
      "cell_type": "markdown",
      "metadata": {
        "id": "GskbNi_7nPzj"
      },
      "source": [
        "Conclusion:\n",
        "\n",
        "\n",
        "\n",
        "*   People paying less fare died\n",
        "*   People having age 20-40 died\n",
        "*   More People from Pclass 1 survived\n",
        "*   More People from Pclass 3 died\n",
        "\n",
        "\n",
        "\n"
      ]
    },
    {
      "cell_type": "code",
      "metadata": {
        "colab": {
          "base_uri": "https://localhost:8080/",
          "height": 302
        },
        "id": "dmQtcDy5oHgs",
        "outputId": "f81ef941-a9af-4c5d-d6af-ea83907e63bd"
      },
      "source": [
        "sns.barplot(x='Sex',y='Survived',data=titanic_data)"
      ],
      "execution_count": 34,
      "outputs": [
        {
          "output_type": "execute_result",
          "data": {
            "text/plain": [
              "<matplotlib.axes._subplots.AxesSubplot at 0x7f94062868d0>"
            ]
          },
          "metadata": {},
          "execution_count": 34
        },
        {
          "output_type": "display_data",
          "data": {
            "image/png": "[encoded data removed]",
            "text/plain": [
              "<Figure size 432x288 with 1 Axes>"
            ]
          },
          "metadata": {}
        }
      ]
    },
    {
      "cell_type": "markdown",
      "metadata": {
        "id": "WfUFI2YJoMxa"
      },
      "source": [
        "We can aslo see that more female survived than male \n",
        "\n",
        "Establishing correlation between all the features using heatmap"
      ]
    },
    {
      "cell_type": "code",
      "metadata": {
        "colab": {
          "base_uri": "https://localhost:8080/",
          "height": 595
        },
        "id": "mYYUfnIDopxK",
        "outputId": "decc594d-a05e-4873-82fb-6fa7bb6a00cb"
      },
      "source": [
        "corr = titanic_data.corr()\n",
        "plt.figure(figsize=(10,10))\n",
        "sns.heatmap(corr,vmax=0.8,linewidth=.05,square=True,annot=True,linecolor='black')"
      ],
      "execution_count": 35,
      "outputs": [
        {
          "output_type": "execute_result",
          "data": {
            "text/plain": [
              "<matplotlib.axes._subplots.AxesSubplot at 0x7f940a206150>"
            ]
          },
          "metadata": {},
          "execution_count": 35
        },
        {
          "output_type": "display_data",
          "data": {
            "image/png": "[encoded data removed]",
            "text/plain": [
              "<Figure size 720x720 with 2 Axes>"
            ]
          },
          "metadata": {}
        }
      ]
    },
    {
      "cell_type": "markdown",
      "metadata": {
        "id": "g8Pj6KmzrkHB"
      },
      "source": [
        "**Decision Trees**\n",
        "\n"
      ]
    },
    {
      "cell_type": "code",
      "metadata": {
        "id": "EzetyOXpr1bi"
      },
      "source": [
        "titanic=pd.get_dummies(titanic,columns=['Sex'],drop_first=True)\n",
        "titanic.head()\n",
        "titanic.drop('Embarked',axis=1,inplace=True)"
      ],
      "execution_count": 36,
      "outputs": []
    },
    {
      "cell_type": "code",
      "metadata": {
        "colab": {
          "base_uri": "https://localhost:8080/",
          "height": 206
        },
        "id": "3ysg_pVxr3la",
        "outputId": "58dfcfe5-8315-4290-8c47-2b1c58ce23ac"
      },
      "source": [
        "X=titanic.loc[:,titanic.columns!='Survived']\n",
        "X.head()"
      ],
      "execution_count": 37,
      "outputs": [
        {
          "output_type": "execute_result",
          "data": {
            "text/html": [
              "<div>\n",
              "<style scoped>\n",
              "    .dataframe tbody tr th:only-of-type {\n",
              "        vertical-align: middle;\n",
              "    }\n",
              "\n",
              "    .dataframe tbody tr th {\n",
              "        vertical-align: top;\n",
              "    }\n",
              "\n",
              "    .dataframe thead th {\n",
              "        text-align: right;\n",
              "    }\n",
              "</style>\n",
              "<table border=\"1\" class=\"dataframe\">\n",
              "  <thead>\n",
              "    <tr style=\"text-align: right;\">\n",
              "      <th></th>\n",
              "      <th>PassengerId</th>\n",
              "      <th>Pclass</th>\n",
              "      <th>Age</th>\n",
              "      <th>Fare</th>\n",
              "      <th>Sex_male</th>\n",
              "    </tr>\n",
              "  </thead>\n",
              "  <tbody>\n",
              "    <tr>\n",
              "      <th>0</th>\n",
              "      <td>1</td>\n",
              "      <td>3</td>\n",
              "      <td>22.0</td>\n",
              "      <td>7.2500</td>\n",
              "      <td>1</td>\n",
              "    </tr>\n",
              "    <tr>\n",
              "      <th>1</th>\n",
              "      <td>2</td>\n",
              "      <td>1</td>\n",
              "      <td>38.0</td>\n",
              "      <td>71.2833</td>\n",
              "      <td>0</td>\n",
              "    </tr>\n",
              "    <tr>\n",
              "      <th>2</th>\n",
              "      <td>3</td>\n",
              "      <td>3</td>\n",
              "      <td>26.0</td>\n",
              "      <td>7.9250</td>\n",
              "      <td>0</td>\n",
              "    </tr>\n",
              "    <tr>\n",
              "      <th>3</th>\n",
              "      <td>4</td>\n",
              "      <td>1</td>\n",
              "      <td>35.0</td>\n",
              "      <td>53.1000</td>\n",
              "      <td>0</td>\n",
              "    </tr>\n",
              "    <tr>\n",
              "      <th>4</th>\n",
              "      <td>5</td>\n",
              "      <td>3</td>\n",
              "      <td>35.0</td>\n",
              "      <td>8.0500</td>\n",
              "      <td>1</td>\n",
              "    </tr>\n",
              "  </tbody>\n",
              "</table>\n",
              "</div>"
            ],
            "text/plain": [
              "   PassengerId  Pclass   Age     Fare  Sex_male\n",
              "0            1       3  22.0   7.2500         1\n",
              "1            2       1  38.0  71.2833         0\n",
              "2            3       3  26.0   7.9250         0\n",
              "3            4       1  35.0  53.1000         0\n",
              "4            5       3  35.0   8.0500         1"
            ]
          },
          "metadata": {},
          "execution_count": 37
        }
      ]
    },
    {
      "cell_type": "code",
      "metadata": {
        "colab": {
          "base_uri": "https://localhost:8080/"
        },
        "id": "U3JOJIC-r7XJ",
        "outputId": "fa582f69-fa76-4ddf-9a7a-92be85fcba92"
      },
      "source": [
        "Y=titanic.Survived\n",
        "Y.head()"
      ],
      "execution_count": 38,
      "outputs": [
        {
          "output_type": "execute_result",
          "data": {
            "text/plain": [
              "0    0\n",
              "1    1\n",
              "2    1\n",
              "3    1\n",
              "4    0\n",
              "Name: Survived, dtype: int64"
            ]
          },
          "metadata": {},
          "execution_count": 38
        }
      ]
    },
    {
      "cell_type": "code",
      "metadata": {
        "id": "pLal9SMRrZuB"
      },
      "source": [
        "from sklearn.model_selection import train_test_split\n",
        "X_train,X_test,Y_train,Y_test=train_test_split(X,Y,test_size=0.20,random_state=1)"
      ],
      "execution_count": 39,
      "outputs": []
    },
    {
      "cell_type": "code",
      "metadata": {
        "colab": {
          "base_uri": "https://localhost:8080/"
        },
        "id": "8vPu3jRbsC1J",
        "outputId": "6c4cbd2f-66f2-4938-d02f-cc46cae361a2"
      },
      "source": [
        "print(X_train.shape)\n",
        "print(Y_train.shape)"
      ],
      "execution_count": 40,
      "outputs": [
        {
          "output_type": "stream",
          "name": "stdout",
          "text": [
            "(712, 5)\n",
            "(712,)\n"
          ]
        }
      ]
    },
    {
      "cell_type": "code",
      "metadata": {
        "colab": {
          "base_uri": "https://localhost:8080/"
        },
        "id": "yueZyx47y6fo",
        "outputId": "d9d089f8-ec68-4860-d60b-f79df82ff7d2"
      },
      "source": [
        "from sklearn import tree\n",
        "model=tree.DecisionTreeClassifier(random_state=0)\n",
        "model.fit(X_train,Y_train)"
      ],
      "execution_count": 41,
      "outputs": [
        {
          "output_type": "execute_result",
          "data": {
            "text/plain": [
              "DecisionTreeClassifier(random_state=0)"
            ]
          },
          "metadata": {},
          "execution_count": 41
        }
      ]
    },
    {
      "cell_type": "code",
      "metadata": {
        "colab": {
          "base_uri": "https://localhost:8080/",
          "height": 35
        },
        "id": "xT3ylJ3sy9N_",
        "outputId": "c6344c9b-e7a0-411e-f84f-46949399e6e8"
      },
      "source": [
        "import graphviz\n",
        "from graphviz import Source\n",
        "graph=Source(tree.export_graphviz(model,out_file=None,filled=True,rounded=True,special_characters=True,feature_names=X.columns))\n",
        "graph.format='png'\n",
        "graph.render('dtree_render',view=True)"
      ],
      "execution_count": 48,
      "outputs": [
        {
          "output_type": "execute_result",
          "data": {
            "application/vnd.google.colaboratory.intrinsic+json": {
              "type": "string"
            },
            "text/plain": [
              "'dtree_render.png'"
            ]
          },
          "metadata": {},
          "execution_count": 48
        }
      ]
    },
    {
      "cell_type": "code",
      "metadata": {
        "colab": {
          "base_uri": "https://localhost:8080/"
        },
        "id": "_AT0E6YZzABn",
        "outputId": "31fd0f0d-adf4-45cc-e311-065c643f5c20"
      },
      "source": [
        "from sklearn import tree\n",
        "print(tree.export_text(model))"
      ],
      "execution_count": 43,
      "outputs": [
        {
          "output_type": "stream",
          "name": "stdout",
          "text": [
            "|--- feature_4 <= 0.50\n",
            "|   |--- feature_1 <= 2.50\n",
            "|   |   |--- feature_2 <= 2.50\n",
            "|   |   |   |--- feature_3 <= 88.78\n",
            "|   |   |   |   |--- class: 1\n",
            "|   |   |   |--- feature_3 >  88.78\n",
            "|   |   |   |   |--- class: 0\n",
            "|   |   |--- feature_2 >  2.50\n",
            "|   |   |   |--- feature_3 <= 28.86\n",
            "|   |   |   |   |--- feature_3 <= 28.23\n",
            "|   |   |   |   |   |--- feature_0 <= 48.00\n",
            "|   |   |   |   |   |   |--- feature_2 <= 41.00\n",
            "|   |   |   |   |   |   |   |--- class: 0\n",
            "|   |   |   |   |   |   |--- feature_2 >  41.00\n",
            "|   |   |   |   |   |   |   |--- class: 1\n",
            "|   |   |   |   |   |--- feature_0 >  48.00\n",
            "|   |   |   |   |   |   |--- feature_0 <= 828.50\n",
            "|   |   |   |   |   |   |   |--- feature_0 <= 373.00\n",
            "|   |   |   |   |   |   |   |   |--- feature_0 <= 352.50\n",
            "|   |   |   |   |   |   |   |   |   |--- feature_2 <= 27.00\n",
            "|   |   |   |   |   |   |   |   |   |   |--- feature_2 <= 25.00\n",
            "|   |   |   |   |   |   |   |   |   |   |   |--- truncated branch of depth 3\n",
            "|   |   |   |   |   |   |   |   |   |   |--- feature_2 >  25.00\n",
            "|   |   |   |   |   |   |   |   |   |   |   |--- class: 0\n",
            "|   |   |   |   |   |   |   |   |   |--- feature_2 >  27.00\n",
            "|   |   |   |   |   |   |   |   |   |   |--- class: 1\n",
            "|   |   |   |   |   |   |   |   |--- feature_0 >  352.50\n",
            "|   |   |   |   |   |   |   |   |   |--- class: 0\n",
            "|   |   |   |   |   |   |   |--- feature_0 >  373.00\n",
            "|   |   |   |   |   |   |   |   |--- class: 1\n",
            "|   |   |   |   |   |   |--- feature_0 >  828.50\n",
            "|   |   |   |   |   |   |   |--- feature_0 <= 865.00\n",
            "|   |   |   |   |   |   |   |   |--- class: 0\n",
            "|   |   |   |   |   |   |   |--- feature_0 >  865.00\n",
            "|   |   |   |   |   |   |   |   |--- class: 1\n",
            "|   |   |   |   |--- feature_3 >  28.23\n",
            "|   |   |   |   |   |--- class: 0\n",
            "|   |   |   |--- feature_3 >  28.86\n",
            "|   |   |   |   |--- class: 1\n",
            "|   |--- feature_1 >  2.50\n",
            "|   |   |--- feature_3 <= 23.35\n",
            "|   |   |   |--- feature_2 <= 28.50\n",
            "|   |   |   |   |--- feature_3 <= 21.55\n",
            "|   |   |   |   |   |--- feature_3 <= 20.17\n",
            "|   |   |   |   |   |   |--- feature_2 <= 16.50\n",
            "|   |   |   |   |   |   |   |--- feature_0 <= 19.00\n",
            "|   |   |   |   |   |   |   |   |--- feature_3 <= 12.28\n",
            "|   |   |   |   |   |   |   |   |   |--- class: 0\n",
            "|   |   |   |   |   |   |   |   |--- feature_3 >  12.28\n",
            "|   |   |   |   |   |   |   |   |   |--- class: 1\n",
            "|   |   |   |   |   |   |   |--- feature_0 >  19.00\n",
            "|   |   |   |   |   |   |   |   |--- feature_0 <= 817.00\n",
            "|   |   |   |   |   |   |   |   |   |--- class: 1\n",
            "|   |   |   |   |   |   |   |   |--- feature_0 >  817.00\n",
            "|   |   |   |   |   |   |   |   |   |--- feature_0 <= 864.50\n",
            "|   |   |   |   |   |   |   |   |   |   |--- class: 0\n",
            "|   |   |   |   |   |   |   |   |   |--- feature_0 >  864.50\n",
            "|   |   |   |   |   |   |   |   |   |   |--- class: 1\n",
            "|   |   |   |   |   |   |--- feature_2 >  16.50\n",
            "|   |   |   |   |   |   |   |--- feature_3 <= 7.89\n",
            "|   |   |   |   |   |   |   |   |--- feature_3 <= 7.78\n",
            "|   |   |   |   |   |   |   |   |   |--- feature_3 <= 7.76\n",
            "|   |   |   |   |   |   |   |   |   |   |--- feature_0 <= 217.50\n",
            "|   |   |   |   |   |   |   |   |   |   |   |--- class: 1\n",
            "|   |   |   |   |   |   |   |   |   |   |--- feature_0 >  217.50\n",
            "|   |   |   |   |   |   |   |   |   |   |   |--- truncated branch of depth 7\n",
            "|   |   |   |   |   |   |   |   |   |--- feature_3 >  7.76\n",
            "|   |   |   |   |   |   |   |   |   |   |--- class: 0\n",
            "|   |   |   |   |   |   |   |   |--- feature_3 >  7.78\n",
            "|   |   |   |   |   |   |   |   |   |--- class: 1\n",
            "|   |   |   |   |   |   |   |--- feature_3 >  7.89\n",
            "|   |   |   |   |   |   |   |   |--- feature_3 <= 15.37\n",
            "|   |   |   |   |   |   |   |   |   |--- feature_2 <= 19.00\n",
            "|   |   |   |   |   |   |   |   |   |   |--- feature_3 <= 12.15\n",
            "|   |   |   |   |   |   |   |   |   |   |   |--- class: 1\n",
            "|   |   |   |   |   |   |   |   |   |   |--- feature_3 >  12.15\n",
            "|   |   |   |   |   |   |   |   |   |   |   |--- class: 0\n",
            "|   |   |   |   |   |   |   |   |   |--- feature_2 >  19.00\n",
            "|   |   |   |   |   |   |   |   |   |   |--- feature_0 <= 820.50\n",
            "|   |   |   |   |   |   |   |   |   |   |   |--- class: 0\n",
            "|   |   |   |   |   |   |   |   |   |   |--- feature_0 >  820.50\n",
            "|   |   |   |   |   |   |   |   |   |   |   |--- class: 1\n",
            "|   |   |   |   |   |   |   |   |--- feature_3 >  15.37\n",
            "|   |   |   |   |   |   |   |   |   |--- feature_2 <= 21.00\n",
            "|   |   |   |   |   |   |   |   |   |   |--- class: 0\n",
            "|   |   |   |   |   |   |   |   |   |--- feature_2 >  21.00\n",
            "|   |   |   |   |   |   |   |   |   |   |--- feature_0 <= 615.50\n",
            "|   |   |   |   |   |   |   |   |   |   |   |--- class: 1\n",
            "|   |   |   |   |   |   |   |   |   |   |--- feature_0 >  615.50\n",
            "|   |   |   |   |   |   |   |   |   |   |   |--- truncated branch of depth 2\n",
            "|   |   |   |   |   |--- feature_3 >  20.17\n",
            "|   |   |   |   |   |   |--- class: 0\n",
            "|   |   |   |   |--- feature_3 >  21.55\n",
            "|   |   |   |   |   |--- class: 1\n",
            "|   |   |   |--- feature_2 >  28.50\n",
            "|   |   |   |   |--- feature_2 <= 55.00\n",
            "|   |   |   |   |   |--- feature_3 <= 20.23\n",
            "|   |   |   |   |   |   |--- feature_3 <= 11.47\n",
            "|   |   |   |   |   |   |   |--- class: 0\n",
            "|   |   |   |   |   |   |--- feature_3 >  11.47\n",
            "|   |   |   |   |   |   |   |--- feature_3 <= 13.46\n",
            "|   |   |   |   |   |   |   |   |--- class: 1\n",
            "|   |   |   |   |   |   |   |--- feature_3 >  13.46\n",
            "|   |   |   |   |   |   |   |   |--- feature_0 <= 461.50\n",
            "|   |   |   |   |   |   |   |   |   |--- class: 0\n",
            "|   |   |   |   |   |   |   |   |--- feature_0 >  461.50\n",
            "|   |   |   |   |   |   |   |   |   |--- feature_2 <= 34.00\n",
            "|   |   |   |   |   |   |   |   |   |   |--- class: 0\n",
            "|   |   |   |   |   |   |   |   |   |--- feature_2 >  34.00\n",
            "|   |   |   |   |   |   |   |   |   |   |--- class: 1\n",
            "|   |   |   |   |   |--- feature_3 >  20.23\n",
            "|   |   |   |   |   |   |--- feature_2 <= 30.00\n",
            "|   |   |   |   |   |   |   |--- class: 0\n",
            "|   |   |   |   |   |   |--- feature_2 >  30.00\n",
            "|   |   |   |   |   |   |   |--- class: 1\n",
            "|   |   |   |   |--- feature_2 >  55.00\n",
            "|   |   |   |   |   |--- class: 1\n",
            "|   |   |--- feature_3 >  23.35\n",
            "|   |   |   |--- feature_0 <= 129.00\n",
            "|   |   |   |   |--- feature_2 <= 22.00\n",
            "|   |   |   |   |   |--- class: 0\n",
            "|   |   |   |   |--- feature_2 >  22.00\n",
            "|   |   |   |   |   |--- class: 1\n",
            "|   |   |   |--- feature_0 >  129.00\n",
            "|   |   |   |   |--- class: 0\n",
            "|--- feature_4 >  0.50\n",
            "|   |--- feature_2 <= 13.00\n",
            "|   |   |--- feature_1 <= 2.50\n",
            "|   |   |   |--- class: 1\n",
            "|   |   |--- feature_1 >  2.50\n",
            "|   |   |   |--- feature_3 <= 20.83\n",
            "|   |   |   |   |--- feature_2 <= 10.00\n",
            "|   |   |   |   |   |--- class: 1\n",
            "|   |   |   |   |--- feature_2 >  10.00\n",
            "|   |   |   |   |   |--- feature_0 <= 429.00\n",
            "|   |   |   |   |   |   |--- class: 1\n",
            "|   |   |   |   |   |--- feature_0 >  429.00\n",
            "|   |   |   |   |   |   |--- class: 0\n",
            "|   |   |   |--- feature_3 >  20.83\n",
            "|   |   |   |   |--- feature_2 <= 3.50\n",
            "|   |   |   |   |   |--- feature_2 <= 2.50\n",
            "|   |   |   |   |   |   |--- class: 0\n",
            "|   |   |   |   |   |--- feature_2 >  2.50\n",
            "|   |   |   |   |   |   |--- class: 1\n",
            "|   |   |   |   |--- feature_2 >  3.50\n",
            "|   |   |   |   |   |--- class: 0\n",
            "|   |--- feature_2 >  13.00\n",
            "|   |   |--- feature_1 <= 1.50\n",
            "|   |   |   |--- feature_0 <= 565.50\n",
            "|   |   |   |   |--- feature_2 <= 53.00\n",
            "|   |   |   |   |   |--- feature_0 <= 384.50\n",
            "|   |   |   |   |   |   |--- feature_0 <= 256.50\n",
            "|   |   |   |   |   |   |   |--- feature_0 <= 198.00\n",
            "|   |   |   |   |   |   |   |   |--- feature_0 <= 100.50\n",
            "|   |   |   |   |   |   |   |   |   |--- feature_0 <= 95.50\n",
            "|   |   |   |   |   |   |   |   |   |   |--- feature_3 <= 41.30\n",
            "|   |   |   |   |   |   |   |   |   |   |   |--- truncated branch of depth 2\n",
            "|   |   |   |   |   |   |   |   |   |   |--- feature_3 >  41.30\n",
            "|   |   |   |   |   |   |   |   |   |   |   |--- class: 0\n",
            "|   |   |   |   |   |   |   |   |   |--- feature_0 >  95.50\n",
            "|   |   |   |   |   |   |   |   |   |   |--- class: 1\n",
            "|   |   |   |   |   |   |   |   |--- feature_0 >  100.50\n",
            "|   |   |   |   |   |   |   |   |   |--- class: 0\n",
            "|   |   |   |   |   |   |   |--- feature_0 >  198.00\n",
            "|   |   |   |   |   |   |   |   |--- feature_2 <= 42.00\n",
            "|   |   |   |   |   |   |   |   |   |--- class: 1\n",
            "|   |   |   |   |   |   |   |   |--- feature_2 >  42.00\n",
            "|   |   |   |   |   |   |   |   |   |--- class: 0\n",
            "|   |   |   |   |   |   |--- feature_0 >  256.50\n",
            "|   |   |   |   |   |   |   |--- class: 0\n",
            "|   |   |   |   |   |--- feature_0 >  384.50\n",
            "|   |   |   |   |   |   |--- feature_0 <= 462.00\n",
            "|   |   |   |   |   |   |   |--- feature_0 <= 441.50\n",
            "|   |   |   |   |   |   |   |   |--- feature_3 <= 87.95\n",
            "|   |   |   |   |   |   |   |   |   |--- class: 0\n",
            "|   |   |   |   |   |   |   |   |--- feature_3 >  87.95\n",
            "|   |   |   |   |   |   |   |   |   |--- class: 1\n",
            "|   |   |   |   |   |   |   |--- feature_0 >  441.50\n",
            "|   |   |   |   |   |   |   |   |--- class: 1\n",
            "|   |   |   |   |   |   |--- feature_0 >  462.00\n",
            "|   |   |   |   |   |   |   |--- feature_2 <= 26.50\n",
            "|   |   |   |   |   |   |   |   |--- feature_3 <= 99.99\n",
            "|   |   |   |   |   |   |   |   |   |--- class: 1\n",
            "|   |   |   |   |   |   |   |   |--- feature_3 >  99.99\n",
            "|   |   |   |   |   |   |   |   |   |--- feature_0 <= 528.50\n",
            "|   |   |   |   |   |   |   |   |   |   |--- class: 0\n",
            "|   |   |   |   |   |   |   |   |   |--- feature_0 >  528.50\n",
            "|   |   |   |   |   |   |   |   |   |   |--- class: 1\n",
            "|   |   |   |   |   |   |   |--- feature_2 >  26.50\n",
            "|   |   |   |   |   |   |   |   |--- feature_3 <= 30.29\n",
            "|   |   |   |   |   |   |   |   |   |--- feature_0 <= 522.50\n",
            "|   |   |   |   |   |   |   |   |   |   |--- class: 1\n",
            "|   |   |   |   |   |   |   |   |   |--- feature_0 >  522.50\n",
            "|   |   |   |   |   |   |   |   |   |   |--- class: 0\n",
            "|   |   |   |   |   |   |   |   |--- feature_3 >  30.29\n",
            "|   |   |   |   |   |   |   |   |   |--- class: 0\n",
            "|   |   |   |   |--- feature_2 >  53.00\n",
            "|   |   |   |   |   |--- class: 0\n",
            "|   |   |   |--- feature_0 >  565.50\n",
            "|   |   |   |   |--- feature_0 <= 741.50\n",
            "|   |   |   |   |   |--- feature_2 <= 29.50\n",
            "|   |   |   |   |   |   |--- feature_3 <= 28.27\n",
            "|   |   |   |   |   |   |   |--- class: 0\n",
            "|   |   |   |   |   |   |--- feature_3 >  28.27\n",
            "|   |   |   |   |   |   |   |--- feature_3 <= 36.45\n",
            "|   |   |   |   |   |   |   |   |--- class: 1\n",
            "|   |   |   |   |   |   |   |--- feature_3 >  36.45\n",
            "|   |   |   |   |   |   |   |   |--- class: 0\n",
            "|   |   |   |   |   |--- feature_2 >  29.50\n",
            "|   |   |   |   |   |   |--- feature_0 <= 693.00\n",
            "|   |   |   |   |   |   |   |--- feature_0 <= 586.00\n",
            "|   |   |   |   |   |   |   |   |--- feature_3 <= 33.26\n",
            "|   |   |   |   |   |   |   |   |   |--- class: 1\n",
            "|   |   |   |   |   |   |   |   |--- feature_3 >  33.26\n",
            "|   |   |   |   |   |   |   |   |   |--- class: 0\n",
            "|   |   |   |   |   |   |   |--- feature_0 >  586.00\n",
            "|   |   |   |   |   |   |   |   |--- class: 1\n",
            "|   |   |   |   |   |   |--- feature_0 >  693.00\n",
            "|   |   |   |   |   |   |   |--- feature_2 <= 48.50\n",
            "|   |   |   |   |   |   |   |   |--- class: 1\n",
            "|   |   |   |   |   |   |   |--- feature_2 >  48.50\n",
            "|   |   |   |   |   |   |   |   |--- class: 0\n",
            "|   |   |   |   |--- feature_0 >  741.50\n",
            "|   |   |   |   |   |--- feature_0 <= 823.50\n",
            "|   |   |   |   |   |   |--- class: 0\n",
            "|   |   |   |   |   |--- feature_0 >  823.50\n",
            "|   |   |   |   |   |   |--- feature_0 <= 863.00\n",
            "|   |   |   |   |   |   |   |--- class: 1\n",
            "|   |   |   |   |   |   |--- feature_0 >  863.00\n",
            "|   |   |   |   |   |   |   |--- feature_0 <= 881.50\n",
            "|   |   |   |   |   |   |   |   |--- class: 0\n",
            "|   |   |   |   |   |   |   |--- feature_0 >  881.50\n",
            "|   |   |   |   |   |   |   |   |--- class: 1\n",
            "|   |   |--- feature_1 >  1.50\n",
            "|   |   |   |--- feature_0 <= 581.50\n",
            "|   |   |   |   |--- feature_0 <= 569.50\n",
            "|   |   |   |   |   |--- feature_0 <= 541.50\n",
            "|   |   |   |   |   |   |--- feature_0 <= 458.00\n",
            "|   |   |   |   |   |   |   |--- feature_0 <= 455.50\n",
            "|   |   |   |   |   |   |   |   |--- feature_0 <= 204.50\n",
            "|   |   |   |   |   |   |   |   |   |--- feature_3 <= 7.80\n",
            "|   |   |   |   |   |   |   |   |   |   |--- feature_3 <= 7.79\n",
            "|   |   |   |   |   |   |   |   |   |   |   |--- truncated branch of depth 5\n",
            "|   |   |   |   |   |   |   |   |   |   |--- feature_3 >  7.79\n",
            "|   |   |   |   |   |   |   |   |   |   |   |--- class: 1\n",
            "|   |   |   |   |   |   |   |   |   |--- feature_3 >  7.80\n",
            "|   |   |   |   |   |   |   |   |   |   |--- feature_3 <= 46.62\n",
            "|   |   |   |   |   |   |   |   |   |   |   |--- truncated branch of depth 3\n",
            "|   |   |   |   |   |   |   |   |   |   |--- feature_3 >  46.62\n",
            "|   |   |   |   |   |   |   |   |   |   |   |--- truncated branch of depth 2\n",
            "|   |   |   |   |   |   |   |   |--- feature_0 >  204.50\n",
            "|   |   |   |   |   |   |   |   |   |--- feature_0 <= 206.00\n",
            "|   |   |   |   |   |   |   |   |   |   |--- class: 1\n",
            "|   |   |   |   |   |   |   |   |   |--- feature_0 >  206.00\n",
            "|   |   |   |   |   |   |   |   |   |   |--- feature_3 <= 7.91\n",
            "|   |   |   |   |   |   |   |   |   |   |   |--- truncated branch of depth 4\n",
            "|   |   |   |   |   |   |   |   |   |   |--- feature_3 >  7.91\n",
            "|   |   |   |   |   |   |   |   |   |   |   |--- truncated branch of depth 6\n",
            "|   |   |   |   |   |   |   |--- feature_0 >  455.50\n",
            "|   |   |   |   |   |   |   |   |--- class: 1\n",
            "|   |   |   |   |   |   |--- feature_0 >  458.00\n",
            "|   |   |   |   |   |   |   |--- feature_2 <= 28.50\n",
            "|   |   |   |   |   |   |   |   |--- class: 0\n",
            "|   |   |   |   |   |   |   |--- feature_2 >  28.50\n",
            "|   |   |   |   |   |   |   |   |--- feature_2 <= 29.50\n",
            "|   |   |   |   |   |   |   |   |   |--- feature_3 <= 7.40\n",
            "|   |   |   |   |   |   |   |   |   |   |--- class: 0\n",
            "|   |   |   |   |   |   |   |   |   |--- feature_3 >  7.40\n",
            "|   |   |   |   |   |   |   |   |   |   |--- class: 1\n",
            "|   |   |   |   |   |   |   |   |--- feature_2 >  29.50\n",
            "|   |   |   |   |   |   |   |   |   |--- class: 0\n",
            "|   |   |   |   |   |--- feature_0 >  541.50\n",
            "|   |   |   |   |   |   |--- feature_0 <= 548.50\n",
            "|   |   |   |   |   |   |   |--- class: 1\n",
            "|   |   |   |   |   |   |--- feature_0 >  548.50\n",
            "|   |   |   |   |   |   |   |--- feature_3 <= 7.23\n",
            "|   |   |   |   |   |   |   |   |--- class: 1\n",
            "|   |   |   |   |   |   |   |--- feature_3 >  7.23\n",
            "|   |   |   |   |   |   |   |   |--- class: 0\n",
            "|   |   |   |   |--- feature_0 >  569.50\n",
            "|   |   |   |   |   |--- feature_3 <= 12.50\n",
            "|   |   |   |   |   |   |--- class: 1\n",
            "|   |   |   |   |   |--- feature_3 >  12.50\n",
            "|   |   |   |   |   |   |--- class: 0\n",
            "|   |   |   |--- feature_0 >  581.50\n",
            "|   |   |   |   |--- feature_2 <= 32.50\n",
            "|   |   |   |   |   |--- feature_2 <= 30.75\n",
            "|   |   |   |   |   |   |--- feature_3 <= 7.01\n",
            "|   |   |   |   |   |   |   |--- feature_3 <= 6.96\n",
            "|   |   |   |   |   |   |   |   |--- class: 0\n",
            "|   |   |   |   |   |   |   |--- feature_3 >  6.96\n",
            "|   |   |   |   |   |   |   |   |--- class: 1\n",
            "|   |   |   |   |   |   |--- feature_3 >  7.01\n",
            "|   |   |   |   |   |   |   |--- feature_2 <= 20.50\n",
            "|   |   |   |   |   |   |   |   |--- feature_2 <= 19.50\n",
            "|   |   |   |   |   |   |   |   |   |--- class: 0\n",
            "|   |   |   |   |   |   |   |   |--- feature_2 >  19.50\n",
            "|   |   |   |   |   |   |   |   |   |--- feature_3 <= 8.29\n",
            "|   |   |   |   |   |   |   |   |   |   |--- feature_0 <= 802.00\n",
            "|   |   |   |   |   |   |   |   |   |   |   |--- class: 1\n",
            "|   |   |   |   |   |   |   |   |   |   |--- feature_0 >  802.00\n",
            "|   |   |   |   |   |   |   |   |   |   |   |--- class: 0\n",
            "|   |   |   |   |   |   |   |   |   |--- feature_3 >  8.29\n",
            "|   |   |   |   |   |   |   |   |   |   |--- class: 0\n",
            "|   |   |   |   |   |   |   |--- feature_2 >  20.50\n",
            "|   |   |   |   |   |   |   |   |--- feature_3 <= 14.87\n",
            "|   |   |   |   |   |   |   |   |   |--- class: 0\n",
            "|   |   |   |   |   |   |   |   |--- feature_3 >  14.87\n",
            "|   |   |   |   |   |   |   |   |   |--- feature_3 <= 15.37\n",
            "|   |   |   |   |   |   |   |   |   |   |--- class: 1\n",
            "|   |   |   |   |   |   |   |   |   |--- feature_3 >  15.37\n",
            "|   |   |   |   |   |   |   |   |   |   |--- class: 0\n",
            "|   |   |   |   |   |--- feature_2 >  30.75\n",
            "|   |   |   |   |   |   |--- feature_0 <= 670.00\n",
            "|   |   |   |   |   |   |   |--- class: 0\n",
            "|   |   |   |   |   |   |--- feature_0 >  670.00\n",
            "|   |   |   |   |   |   |   |--- feature_3 <= 7.85\n",
            "|   |   |   |   |   |   |   |   |--- class: 0\n",
            "|   |   |   |   |   |   |   |--- feature_3 >  7.85\n",
            "|   |   |   |   |   |   |   |   |--- class: 1\n",
            "|   |   |   |   |--- feature_2 >  32.50\n",
            "|   |   |   |   |   |--- class: 0\n",
            "\n"
          ]
        }
      ]
    },
    {
      "cell_type": "code",
      "metadata": {
        "colab": {
          "base_uri": "https://localhost:8080/",
          "height": 1000
        },
        "id": "KFxosRzhzGKH",
        "outputId": "d5726a6c-e04b-491e-9c64-ad8b7ea3967b"
      },
      "source": [
        "from sklearn import tree\n",
        "tree.plot_tree(model)"
      ],
      "execution_count": 44,
      "outputs": [
        {
          "output_type": "execute_result",
          "data": {
            "text/plain": [
              "[Text(126.1983173076923, 211.4, 'X[4] <= 0.5\\ngini = 0.47\\nsamples = 712\\nvalue = [443, 269]'),\n",
              " Text(61.03125, 199.32, 'X[1] <= 2.5\\ngini = 0.386\\nsamples = 249\\nvalue = [65, 184]'),\n",
              " Text(18.6, 187.24, 'X[2] <= 2.5\\ngini = 0.096\\nsamples = 139\\nvalue = [7, 132]'),\n",
              " Text(12.876923076923077, 175.16, 'X[3] <= 88.775\\ngini = 0.5\\nsamples = 2\\nvalue = [1, 1]'),\n",
              " Text(10.015384615384615, 163.07999999999998, 'gini = 0.0\\nsamples = 1\\nvalue = [0, 1]'),\n",
              " Text(15.73846153846154, 163.07999999999998, 'gini = 0.0\\nsamples = 1\\nvalue = [1, 0]'),\n",
              " Text(24.323076923076922, 175.16, 'X[3] <= 28.856\\ngini = 0.084\\nsamples = 137\\nvalue = [6, 131]'),\n",
              " Text(21.461538461538463, 163.07999999999998, 'X[3] <= 28.231\\ngini = 0.198\\nsamples = 54\\nvalue = [6, 48]'),\n",
              " Text(18.6, 151.0, 'X[0] <= 48.0\\ngini = 0.171\\nsamples = 53\\nvalue = [5, 48]'),\n",
              " Text(11.446153846153846, 138.92000000000002, 'X[2] <= 41.0\\ngini = 0.444\\nsamples = 3\\nvalue = [1, 2]'),\n",
              " Text(8.584615384615384, 126.84, 'gini = 0.0\\nsamples = 1\\nvalue = [1, 0]'),\n",
              " Text(14.307692307692308, 126.84, 'gini = 0.0\\nsamples = 2\\nvalue = [0, 2]'),\n",
              " Text(25.753846153846155, 138.92000000000002, 'X[0] <= 828.5\\ngini = 0.147\\nsamples = 50\\nvalue = [4, 46]'),\n",
              " Text(20.03076923076923, 126.84, 'X[0] <= 373.0\\ngini = 0.12\\nsamples = 47\\nvalue = [3, 44]'),\n",
              " Text(17.16923076923077, 114.75999999999999, 'X[0] <= 352.5\\ngini = 0.219\\nsamples = 24\\nvalue = [3, 21]'),\n",
              " Text(14.307692307692308, 102.67999999999999, 'X[2] <= 27.0\\ngini = 0.159\\nsamples = 23\\nvalue = [2, 21]'),\n",
              " Text(11.446153846153846, 90.6, 'X[2] <= 25.0\\ngini = 0.375\\nsamples = 8\\nvalue = [2, 6]'),\n",
              " Text(8.584615384615384, 78.52000000000001, 'X[3] <= 13.75\\ngini = 0.245\\nsamples = 7\\nvalue = [1, 6]'),\n",
              " Text(5.723076923076923, 66.44, 'X[0] <= 273.0\\ngini = 0.5\\nsamples = 2\\nvalue = [1, 1]'),\n",
              " Text(2.8615384615384616, 54.359999999999985, 'gini = 0.0\\nsamples = 1\\nvalue = [1, 0]'),\n",
              " Text(8.584615384615384, 54.359999999999985, 'gini = 0.0\\nsamples = 1\\nvalue = [0, 1]'),\n",
              " Text(11.446153846153846, 66.44, 'gini = 0.0\\nsamples = 5\\nvalue = [0, 5]'),\n",
              " Text(14.307692307692308, 78.52000000000001, 'gini = 0.0\\nsamples = 1\\nvalue = [1, 0]'),\n",
              " Text(17.16923076923077, 90.6, 'gini = 0.0\\nsamples = 15\\nvalue = [0, 15]'),\n",
              " Text(20.03076923076923, 102.67999999999999, 'gini = 0.0\\nsamples = 1\\nvalue = [1, 0]'),\n",
              " Text(22.892307692307693, 114.75999999999999, 'gini = 0.0\\nsamples = 23\\nvalue = [0, 23]'),\n",
              " Text(31.47692307692308, 126.84, 'X[0] <= 865.0\\ngini = 0.444\\nsamples = 3\\nvalue = [1, 2]'),\n",
              " Text(28.615384615384617, 114.75999999999999, 'gini = 0.0\\nsamples = 1\\nvalue = [1, 0]'),\n",
              " Text(34.33846153846154, 114.75999999999999, 'gini = 0.0\\nsamples = 2\\nvalue = [0, 2]'),\n",
              " Text(24.323076923076922, 151.0, 'gini = 0.0\\nsamples = 1\\nvalue = [1, 0]'),\n",
              " Text(27.184615384615384, 163.07999999999998, 'gini = 0.0\\nsamples = 83\\nvalue = [0, 83]'),\n",
              " Text(103.4625, 187.24, 'X[3] <= 23.35\\ngini = 0.499\\nsamples = 110\\nvalue = [58, 52]'),\n",
              " Text(86.74038461538461, 175.16, 'X[2] <= 28.5\\ngini = 0.492\\nsamples = 89\\nvalue = [39, 50]'),\n",
              " Text(67.60384615384615, 163.07999999999998, 'X[3] <= 21.55\\ngini = 0.464\\nsamples = 71\\nvalue = [26, 45]'),\n",
              " Text(64.74230769230769, 151.0, 'X[3] <= 20.167\\ngini = 0.475\\nsamples = 67\\nvalue = [26, 41]'),\n",
              " Text(61.88076923076923, 138.92000000000002, 'X[2] <= 16.5\\ngini = 0.466\\nsamples = 65\\nvalue = [24, 41]'),\n",
              " Text(45.784615384615385, 126.84, 'X[0] <= 19.0\\ngini = 0.245\\nsamples = 14\\nvalue = [2, 12]'),\n",
              " Text(40.06153846153846, 114.75999999999999, 'X[3] <= 12.277\\ngini = 0.5\\nsamples = 2\\nvalue = [1, 1]'),\n",
              " Text(37.2, 102.67999999999999, 'gini = 0.0\\nsamples = 1\\nvalue = [1, 0]'),\n",
              " Text(42.92307692307693, 102.67999999999999, 'gini = 0.0\\nsamples = 1\\nvalue = [0, 1]'),\n",
              " Text(51.50769230769231, 114.75999999999999, 'X[0] <= 817.0\\ngini = 0.153\\nsamples = 12\\nvalue = [1, 11]'),\n",
              " Text(48.646153846153844, 102.67999999999999, 'gini = 0.0\\nsamples = 10\\nvalue = [0, 10]'),\n",
              " Text(54.36923076923077, 102.67999999999999, 'X[0] <= 864.5\\ngini = 0.5\\nsamples = 2\\nvalue = [1, 1]'),\n",
              " Text(51.50769230769231, 90.6, 'gini = 0.0\\nsamples = 1\\nvalue = [1, 0]'),\n",
              " Text(57.23076923076923, 90.6, 'gini = 0.0\\nsamples = 1\\nvalue = [0, 1]'),\n",
              " Text(77.97692307692307, 126.84, 'X[3] <= 7.888\\ngini = 0.491\\nsamples = 51\\nvalue = [22, 29]'),\n",
              " Text(68.67692307692307, 114.75999999999999, 'X[3] <= 7.781\\ngini = 0.417\\nsamples = 27\\nvalue = [8, 19]'),\n",
              " Text(65.81538461538462, 102.67999999999999, 'X[3] <= 7.763\\ngini = 0.488\\nsamples = 19\\nvalue = [8, 11]'),\n",
              " Text(62.95384615384616, 90.6, 'X[0] <= 217.5\\ngini = 0.457\\nsamples = 17\\nvalue = [6, 11]'),\n",
              " Text(60.09230769230769, 78.52000000000001, 'gini = 0.0\\nsamples = 3\\nvalue = [0, 3]'),\n",
              " Text(65.81538461538462, 78.52000000000001, 'X[0] <= 270.0\\ngini = 0.49\\nsamples = 14\\nvalue = [6, 8]'),\n",
              " Text(62.95384615384616, 66.44, 'gini = 0.0\\nsamples = 2\\nvalue = [2, 0]'),\n",
              " Text(68.67692307692307, 66.44, 'X[0] <= 439.5\\ngini = 0.444\\nsamples = 12\\nvalue = [4, 8]'),\n",
              " Text(65.81538461538462, 54.359999999999985, 'gini = 0.0\\nsamples = 4\\nvalue = [0, 4]'),\n",
              " Text(71.53846153846153, 54.359999999999985, 'X[0] <= 676.5\\ngini = 0.5\\nsamples = 8\\nvalue = [4, 4]'),\n",
              " Text(68.67692307692307, 42.28, 'X[2] <= 24.5\\ngini = 0.32\\nsamples = 5\\nvalue = [4, 1]'),\n",
              " Text(65.81538461538462, 30.19999999999999, 'gini = 0.0\\nsamples = 2\\nvalue = [2, 0]'),\n",
              " Text(71.53846153846153, 30.19999999999999, 'X[3] <= 7.69\\ngini = 0.444\\nsamples = 3\\nvalue = [2, 1]'),\n",
              " Text(68.67692307692307, 18.120000000000005, 'gini = 0.0\\nsamples = 1\\nvalue = [1, 0]'),\n",
              " Text(74.4, 18.120000000000005, 'X[0] <= 584.0\\ngini = 0.5\\nsamples = 2\\nvalue = [1, 1]'),\n",
              " Text(71.53846153846153, 6.039999999999992, 'gini = 0.0\\nsamples = 1\\nvalue = [0, 1]'),\n",
              " Text(77.26153846153846, 6.039999999999992, 'gini = 0.0\\nsamples = 1\\nvalue = [1, 0]'),\n",
              " Text(74.4, 42.28, 'gini = 0.0\\nsamples = 3\\nvalue = [0, 3]'),\n",
              " Text(68.67692307692307, 90.6, 'gini = 0.0\\nsamples = 2\\nvalue = [2, 0]'),\n",
              " Text(71.53846153846153, 102.67999999999999, 'gini = 0.0\\nsamples = 8\\nvalue = [0, 8]'),\n",
              " Text(87.27692307692308, 114.75999999999999, 'X[3] <= 15.373\\ngini = 0.486\\nsamples = 24\\nvalue = [14, 10]'),\n",
              " Text(80.12307692307692, 102.67999999999999, 'X[2] <= 19.0\\ngini = 0.375\\nsamples = 16\\nvalue = [12, 4]'),\n",
              " Text(74.4, 90.6, 'X[3] <= 12.15\\ngini = 0.375\\nsamples = 4\\nvalue = [1, 3]'),\n",
              " Text(71.53846153846153, 78.52000000000001, 'gini = 0.0\\nsamples = 3\\nvalue = [0, 3]'),\n",
              " Text(77.26153846153846, 78.52000000000001, 'gini = 0.0\\nsamples = 1\\nvalue = [1, 0]'),\n",
              " Text(85.84615384615385, 90.6, 'X[0] <= 820.5\\ngini = 0.153\\nsamples = 12\\nvalue = [11, 1]'),\n",
              " Text(82.98461538461538, 78.52000000000001, 'gini = 0.0\\nsamples = 11\\nvalue = [11, 0]'),\n",
              " Text(88.70769230769231, 78.52000000000001, 'gini = 0.0\\nsamples = 1\\nvalue = [0, 1]'),\n",
              " Text(94.43076923076923, 102.67999999999999, 'X[2] <= 21.0\\ngini = 0.375\\nsamples = 8\\nvalue = [2, 6]'),\n",
              " Text(91.56923076923077, 90.6, 'gini = 0.0\\nsamples = 1\\nvalue = [1, 0]'),\n",
              " Text(97.29230769230769, 90.6, 'X[0] <= 615.5\\ngini = 0.245\\nsamples = 7\\nvalue = [1, 6]'),\n",
              " Text(94.43076923076923, 78.52000000000001, 'gini = 0.0\\nsamples = 5\\nvalue = [0, 5]'),\n",
              " Text(100.15384615384616, 78.52000000000001, 'X[3] <= 17.679\\ngini = 0.5\\nsamples = 2\\nvalue = [1, 1]'),\n",
              " Text(97.29230769230769, 66.44, 'gini = 0.0\\nsamples = 1\\nvalue = [1, 0]'),\n",
              " Text(103.01538461538462, 66.44, 'gini = 0.0\\nsamples = 1\\nvalue = [0, 1]'),\n",
              " Text(67.60384615384615, 138.92000000000002, 'gini = 0.0\\nsamples = 2\\nvalue = [2, 0]'),\n",
              " Text(70.46538461538462, 151.0, 'gini = 0.0\\nsamples = 4\\nvalue = [0, 4]'),\n",
              " Text(105.87692307692308, 163.07999999999998, 'X[2] <= 55.0\\ngini = 0.401\\nsamples = 18\\nvalue = [13, 5]'),\n",
              " Text(103.01538461538462, 151.0, 'X[3] <= 20.231\\ngini = 0.36\\nsamples = 17\\nvalue = [13, 4]'),\n",
              " Text(97.29230769230769, 138.92000000000002, 'X[3] <= 11.469\\ngini = 0.245\\nsamples = 14\\nvalue = [12, 2]'),\n",
              " Text(94.43076923076923, 126.84, 'gini = 0.0\\nsamples = 7\\nvalue = [7, 0]'),\n",
              " Text(100.15384615384616, 126.84, 'X[3] <= 13.465\\ngini = 0.408\\nsamples = 7\\nvalue = [5, 2]'),\n",
              " Text(97.29230769230769, 114.75999999999999, 'gini = 0.0\\nsamples = 1\\nvalue = [0, 1]'),\n",
              " Text(103.01538461538462, 114.75999999999999, 'X[0] <= 461.5\\ngini = 0.278\\nsamples = 6\\nvalue = [5, 1]'),\n",
              " Text(100.15384615384616, 102.67999999999999, 'gini = 0.0\\nsamples = 4\\nvalue = [4, 0]'),\n",
              " Text(105.87692307692308, 102.67999999999999, 'X[2] <= 34.0\\ngini = 0.5\\nsamples = 2\\nvalue = [1, 1]'),\n",
              " Text(103.01538461538462, 90.6, 'gini = 0.0\\nsamples = 1\\nvalue = [1, 0]'),\n",
              " Text(108.73846153846154, 90.6, 'gini = 0.0\\nsamples = 1\\nvalue = [0, 1]'),\n",
              " Text(108.73846153846154, 138.92000000000002, 'X[2] <= 30.0\\ngini = 0.444\\nsamples = 3\\nvalue = [1, 2]'),\n",
              " Text(105.87692307692308, 126.84, 'gini = 0.0\\nsamples = 1\\nvalue = [1, 0]'),\n",
              " Text(111.60000000000001, 126.84, 'gini = 0.0\\nsamples = 2\\nvalue = [0, 2]'),\n",
              " Text(108.73846153846154, 151.0, 'gini = 0.0\\nsamples = 1\\nvalue = [0, 1]'),\n",
              " Text(120.18461538461538, 175.16, 'X[0] <= 129.0\\ngini = 0.172\\nsamples = 21\\nvalue = [19, 2]'),\n",
              " Text(117.32307692307693, 163.07999999999998, 'X[2] <= 22.0\\ngini = 0.444\\nsamples = 3\\nvalue = [1, 2]'),\n",
              " Text(114.46153846153847, 151.0, 'gini = 0.0\\nsamples = 1\\nvalue = [1, 0]'),\n",
              " Text(120.18461538461538, 151.0, 'gini = 0.0\\nsamples = 2\\nvalue = [0, 2]'),\n",
              " Text(123.04615384615384, 163.07999999999998, 'gini = 0.0\\nsamples = 18\\nvalue = [18, 0]'),\n",
              " Text(191.3653846153846, 199.32, 'X[2] <= 13.0\\ngini = 0.3\\nsamples = 463\\nvalue = [378, 85]'),\n",
              " Text(134.4923076923077, 187.24, 'X[1] <= 2.5\\ngini = 0.458\\nsamples = 31\\nvalue = [11, 20]'),\n",
              " Text(131.63076923076923, 175.16, 'gini = 0.0\\nsamples = 11\\nvalue = [0, 11]'),\n",
              " Text(137.35384615384615, 175.16, 'X[3] <= 20.825\\ngini = 0.495\\nsamples = 20\\nvalue = [11, 9]'),\n",
              " Text(128.76923076923077, 163.07999999999998, 'X[2] <= 10.0\\ngini = 0.198\\nsamples = 9\\nvalue = [1, 8]'),\n",
              " Text(125.90769230769232, 151.0, 'gini = 0.0\\nsamples = 7\\nvalue = [0, 7]'),\n",
              " Text(131.63076923076923, 151.0, 'X[0] <= 429.0\\ngini = 0.5\\nsamples = 2\\nvalue = [1, 1]'),\n",
              " Text(128.76923076923077, 138.92000000000002, 'gini = 0.0\\nsamples = 1\\nvalue = [0, 1]'),\n",
              " Text(134.4923076923077, 138.92000000000002, 'gini = 0.0\\nsamples = 1\\nvalue = [1, 0]'),\n",
              " Text(145.93846153846155, 163.07999999999998, 'X[2] <= 3.5\\ngini = 0.165\\nsamples = 11\\nvalue = [10, 1]'),\n",
              " Text(143.07692307692307, 151.0, 'X[2] <= 2.5\\ngini = 0.375\\nsamples = 4\\nvalue = [3, 1]'),\n",
              " Text(140.2153846153846, 138.92000000000002, 'gini = 0.0\\nsamples = 3\\nvalue = [3, 0]'),\n",
              " Text(145.93846153846155, 138.92000000000002, 'gini = 0.0\\nsamples = 1\\nvalue = [0, 1]'),\n",
              " Text(148.8, 151.0, 'gini = 0.0\\nsamples = 7\\nvalue = [7, 0]'),\n",
              " Text(248.23846153846154, 187.24, 'X[1] <= 1.5\\ngini = 0.256\\nsamples = 432\\nvalue = [367, 65]'),\n",
              " Text(194.22692307692307, 175.16, 'X[0] <= 565.5\\ngini = 0.447\\nsamples = 95\\nvalue = [63, 32]'),\n",
              " Text(167.4, 163.07999999999998, 'X[2] <= 53.0\\ngini = 0.331\\nsamples = 62\\nvalue = [49, 13]'),\n",
              " Text(164.53846153846155, 151.0, 'X[0] <= 384.5\\ngini = 0.39\\nsamples = 49\\nvalue = [36, 13]'),\n",
              " Text(151.66153846153847, 138.92000000000002, 'X[0] <= 256.5\\ngini = 0.264\\nsamples = 32\\nvalue = [27, 5]'),\n",
              " Text(148.8, 126.84, 'X[0] <= 198.0\\ngini = 0.363\\nsamples = 21\\nvalue = [16, 5]'),\n",
              " Text(143.07692307692307, 114.75999999999999, 'X[0] <= 100.5\\ngini = 0.208\\nsamples = 17\\nvalue = [15, 2]'),\n",
              " Text(140.2153846153846, 102.67999999999999, 'X[0] <= 95.5\\ngini = 0.346\\nsamples = 9\\nvalue = [7, 2]'),\n",
              " Text(137.35384615384615, 90.6, 'X[3] <= 41.3\\ngini = 0.219\\nsamples = 8\\nvalue = [7, 1]'),\n",
              " Text(134.4923076923077, 78.52000000000001, 'X[3] <= 31.61\\ngini = 0.444\\nsamples = 3\\nvalue = [2, 1]'),\n",
              " Text(131.63076923076923, 66.44, 'gini = 0.0\\nsamples = 2\\nvalue = [2, 0]'),\n",
              " Text(137.35384615384615, 66.44, 'gini = 0.0\\nsamples = 1\\nvalue = [0, 1]'),\n",
              " Text(140.2153846153846, 78.52000000000001, 'gini = 0.0\\nsamples = 5\\nvalue = [5, 0]'),\n",
              " Text(143.07692307692307, 90.6, 'gini = 0.0\\nsamples = 1\\nvalue = [0, 1]'),\n",
              " Text(145.93846153846155, 102.67999999999999, 'gini = 0.0\\nsamples = 8\\nvalue = [8, 0]'),\n",
              " Text(154.52307692307693, 114.75999999999999, 'X[2] <= 42.0\\ngini = 0.375\\nsamples = 4\\nvalue = [1, 3]'),\n",
              " Text(151.66153846153847, 102.67999999999999, 'gini = 0.0\\nsamples = 3\\nvalue = [0, 3]'),\n",
              " Text(157.3846153846154, 102.67999999999999, 'gini = 0.0\\nsamples = 1\\nvalue = [1, 0]'),\n",
              " Text(154.52307692307693, 126.84, 'gini = 0.0\\nsamples = 11\\nvalue = [11, 0]'),\n",
              " Text(177.41538461538462, 138.92000000000002, 'X[0] <= 462.0\\ngini = 0.498\\nsamples = 17\\nvalue = [9, 8]'),\n",
              " Text(168.83076923076922, 126.84, 'X[0] <= 441.5\\ngini = 0.278\\nsamples = 6\\nvalue = [1, 5]'),\n",
              " Text(165.96923076923076, 114.75999999999999, 'X[3] <= 87.95\\ngini = 0.5\\nsamples = 2\\nvalue = [1, 1]'),\n",
              " Text(163.1076923076923, 102.67999999999999, 'gini = 0.0\\nsamples = 1\\nvalue = [1, 0]'),\n",
              " Text(168.83076923076922, 102.67999999999999, 'gini = 0.0\\nsamples = 1\\nvalue = [0, 1]'),\n",
              " Text(171.6923076923077, 114.75999999999999, 'gini = 0.0\\nsamples = 4\\nvalue = [0, 4]'),\n",
              " Text(186.0, 126.84, 'X[2] <= 26.5\\ngini = 0.397\\nsamples = 11\\nvalue = [8, 3]'),\n",
              " Text(177.41538461538462, 114.75999999999999, 'X[3] <= 99.99\\ngini = 0.444\\nsamples = 3\\nvalue = [1, 2]'),\n",
              " Text(174.55384615384617, 102.67999999999999, 'gini = 0.0\\nsamples = 1\\nvalue = [0, 1]'),\n",
              " Text(180.27692307692308, 102.67999999999999, 'X[0] <= 528.5\\ngini = 0.5\\nsamples = 2\\nvalue = [1, 1]'),\n",
              " Text(177.41538461538462, 90.6, 'gini = 0.0\\nsamples = 1\\nvalue = [1, 0]'),\n",
              " Text(183.13846153846154, 90.6, 'gini = 0.0\\nsamples = 1\\nvalue = [0, 1]'),\n",
              " Text(194.58461538461538, 114.75999999999999, 'X[3] <= 30.285\\ngini = 0.219\\nsamples = 8\\nvalue = [7, 1]'),\n",
              " Text(191.72307692307692, 102.67999999999999, 'X[0] <= 522.5\\ngini = 0.5\\nsamples = 2\\nvalue = [1, 1]'),\n",
              " Text(188.86153846153846, 90.6, 'gini = 0.0\\nsamples = 1\\nvalue = [0, 1]'),\n",
              " Text(194.58461538461538, 90.6, 'gini = 0.0\\nsamples = 1\\nvalue = [1, 0]'),\n",
              " Text(197.44615384615386, 102.67999999999999, 'gini = 0.0\\nsamples = 6\\nvalue = [6, 0]'),\n",
              " Text(170.26153846153846, 151.0, 'gini = 0.0\\nsamples = 13\\nvalue = [13, 0]'),\n",
              " Text(221.05384615384617, 163.07999999999998, 'X[0] <= 741.5\\ngini = 0.489\\nsamples = 33\\nvalue = [14, 19]'),\n",
              " Text(210.32307692307694, 151.0, 'X[2] <= 29.5\\ngini = 0.397\\nsamples = 22\\nvalue = [6, 16]'),\n",
              " Text(200.30769230769232, 138.92000000000002, 'X[3] <= 28.275\\ngini = 0.48\\nsamples = 5\\nvalue = [3, 2]'),\n",
              " Text(197.44615384615386, 126.84, 'gini = 0.0\\nsamples = 2\\nvalue = [2, 0]'),\n",
              " Text(203.16923076923078, 126.84, 'X[3] <= 36.45\\ngini = 0.444\\nsamples = 3\\nvalue = [1, 2]'),\n",
              " Text(200.30769230769232, 114.75999999999999, 'gini = 0.0\\nsamples = 2\\nvalue = [0, 2]'),\n",
              " Text(206.03076923076924, 114.75999999999999, 'gini = 0.0\\nsamples = 1\\nvalue = [1, 0]'),\n",
              " Text(220.33846153846153, 138.92000000000002, 'X[0] <= 693.0\\ngini = 0.291\\nsamples = 17\\nvalue = [3, 14]'),\n",
              " Text(214.6153846153846, 126.84, 'X[0] <= 586.0\\ngini = 0.153\\nsamples = 12\\nvalue = [1, 11]'),\n",
              " Text(211.75384615384615, 114.75999999999999, 'X[3] <= 33.256\\ngini = 0.5\\nsamples = 2\\nvalue = [1, 1]'),\n",
              " Text(208.8923076923077, 102.67999999999999, 'gini = 0.0\\nsamples = 1\\nvalue = [0, 1]'),\n",
              " Text(214.6153846153846, 102.67999999999999, 'gini = 0.0\\nsamples = 1\\nvalue = [1, 0]'),\n",
              " Text(217.47692307692307, 114.75999999999999, 'gini = 0.0\\nsamples = 10\\nvalue = [0, 10]'),\n",
              " Text(226.06153846153848, 126.84, 'X[2] <= 48.5\\ngini = 0.48\\nsamples = 5\\nvalue = [2, 3]'),\n",
              " Text(223.20000000000002, 114.75999999999999, 'gini = 0.0\\nsamples = 3\\nvalue = [0, 3]'),\n",
              " Text(228.92307692307693, 114.75999999999999, 'gini = 0.0\\nsamples = 2\\nvalue = [2, 0]'),\n",
              " Text(231.7846153846154, 151.0, 'X[0] <= 823.5\\ngini = 0.397\\nsamples = 11\\nvalue = [8, 3]'),\n",
              " Text(228.92307692307693, 138.92000000000002, 'gini = 0.0\\nsamples = 6\\nvalue = [6, 0]'),\n",
              " Text(234.64615384615385, 138.92000000000002, 'X[0] <= 863.0\\ngini = 0.48\\nsamples = 5\\nvalue = [2, 3]'),\n",
              " Text(231.7846153846154, 126.84, 'gini = 0.0\\nsamples = 2\\nvalue = [0, 2]'),\n",
              " Text(237.5076923076923, 126.84, 'X[0] <= 881.5\\ngini = 0.444\\nsamples = 3\\nvalue = [2, 1]'),\n",
              " Text(234.64615384615385, 114.75999999999999, 'gini = 0.0\\nsamples = 2\\nvalue = [2, 0]'),\n",
              " Text(240.36923076923077, 114.75999999999999, 'gini = 0.0\\nsamples = 1\\nvalue = [0, 1]'),\n",
              " Text(302.25, 175.16, 'X[0] <= 581.5\\ngini = 0.177\\nsamples = 337\\nvalue = [304, 33]'),\n",
              " Text(284.7230769230769, 163.07999999999998, 'X[0] <= 569.5\\ngini = 0.212\\nsamples = 216\\nvalue = [190, 26]'),\n",
              " Text(274.7076923076923, 151.0, 'X[0] <= 541.5\\ngini = 0.193\\nsamples = 212\\nvalue = [189, 23]'),\n",
              " Text(263.26153846153846, 138.92000000000002, 'X[0] <= 458.0\\ngini = 0.18\\nsamples = 200\\nvalue = [180, 20]'),\n",
              " Text(248.95384615384617, 126.84, 'X[0] <= 455.5\\ngini = 0.202\\nsamples = 167\\nvalue = [148, 19]'),\n",
              " Text(246.09230769230768, 114.75999999999999, 'X[0] <= 204.5\\ngini = 0.193\\nsamples = 166\\nvalue = [148, 18]'),\n",
              " Text(226.06153846153848, 102.67999999999999, 'X[3] <= 7.798\\ngini = 0.128\\nsamples = 73\\nvalue = [68, 5]'),\n",
              " Text(218.90769230769232, 90.6, 'X[3] <= 7.785\\ngini = 0.305\\nsamples = 16\\nvalue = [13, 3]'),\n",
              " Text(216.04615384615386, 78.52000000000001, 'X[0] <= 129.0\\ngini = 0.231\\nsamples = 15\\nvalue = [13, 2]'),\n",
              " Text(213.1846153846154, 66.44, 'X[3] <= 7.183\\ngini = 0.375\\nsamples = 8\\nvalue = [6, 2]'),\n",
              " Text(210.32307692307694, 54.359999999999985, 'gini = 0.0\\nsamples = 1\\nvalue = [0, 1]'),\n",
              " Text(216.04615384615386, 54.359999999999985, 'X[0] <= 47.5\\ngini = 0.245\\nsamples = 7\\nvalue = [6, 1]'),\n",
              " Text(213.1846153846154, 42.28, 'X[0] <= 32.0\\ngini = 0.444\\nsamples = 3\\nvalue = [2, 1]'),\n",
              " Text(210.32307692307694, 30.19999999999999, 'gini = 0.0\\nsamples = 2\\nvalue = [2, 0]'),\n",
              " Text(216.04615384615386, 30.19999999999999, 'gini = 0.0\\nsamples = 1\\nvalue = [0, 1]'),\n",
              " Text(218.90769230769232, 42.28, 'gini = 0.0\\nsamples = 4\\nvalue = [4, 0]'),\n",
              " Text(218.90769230769232, 66.44, 'gini = 0.0\\nsamples = 7\\nvalue = [7, 0]'),\n",
              " Text(221.76923076923077, 78.52000000000001, 'gini = 0.0\\nsamples = 1\\nvalue = [0, 1]'),\n",
              " Text(233.2153846153846, 90.6, 'X[3] <= 46.623\\ngini = 0.068\\nsamples = 57\\nvalue = [55, 2]'),\n",
              " Text(227.4923076923077, 78.52000000000001, 'X[0] <= 26.0\\ngini = 0.037\\nsamples = 53\\nvalue = [52, 1]'),\n",
              " Text(224.63076923076923, 66.44, 'X[0] <= 21.5\\ngini = 0.32\\nsamples = 5\\nvalue = [4, 1]'),\n",
              " Text(221.76923076923077, 54.359999999999985, 'gini = 0.0\\nsamples = 4\\nvalue = [4, 0]'),\n",
              " Text(227.4923076923077, 54.359999999999985, 'gini = 0.0\\nsamples = 1\\nvalue = [0, 1]'),\n",
              " Text(230.35384615384615, 66.44, 'gini = 0.0\\nsamples = 48\\nvalue = [48, 0]'),\n",
              " Text(238.93846153846155, 78.52000000000001, 'X[2] <= 30.0\\ngini = 0.375\\nsamples = 4\\nvalue = [3, 1]'),\n",
              " Text(236.0769230769231, 66.44, 'gini = 0.0\\nsamples = 3\\nvalue = [3, 0]'),\n",
              " Text(241.8, 66.44, 'gini = 0.0\\nsamples = 1\\nvalue = [0, 1]'),\n",
              " Text(266.12307692307695, 102.67999999999999, 'X[0] <= 206.0\\ngini = 0.24\\nsamples = 93\\nvalue = [80, 13]'),\n",
              " Text(263.26153846153846, 90.6, 'gini = 0.0\\nsamples = 1\\nvalue = [0, 1]'),\n",
              " Text(268.9846153846154, 90.6, 'X[3] <= 7.91\\ngini = 0.227\\nsamples = 92\\nvalue = [80, 12]'),\n",
              " Text(253.24615384615385, 78.52000000000001, 'X[3] <= 2.006\\ngini = 0.097\\nsamples = 39\\nvalue = [37, 2]'),\n",
              " Text(247.52307692307693, 66.44, 'X[0] <= 275.0\\ngini = 0.375\\nsamples = 4\\nvalue = [3, 1]'),\n",
              " Text(244.66153846153847, 54.359999999999985, 'gini = 0.0\\nsamples = 1\\nvalue = [0, 1]'),\n",
              " Text(250.3846153846154, 54.359999999999985, 'gini = 0.0\\nsamples = 3\\nvalue = [3, 0]'),\n",
              " Text(258.96923076923076, 66.44, 'X[2] <= 21.5\\ngini = 0.056\\nsamples = 35\\nvalue = [34, 1]'),\n",
              " Text(256.10769230769233, 54.359999999999985, 'X[3] <= 7.785\\ngini = 0.245\\nsamples = 7\\nvalue = [6, 1]'),\n",
              " Text(253.24615384615385, 42.28, 'gini = 0.0\\nsamples = 6\\nvalue = [6, 0]'),\n",
              " Text(258.96923076923076, 42.28, 'gini = 0.0\\nsamples = 1\\nvalue = [0, 1]'),\n",
              " Text(261.83076923076925, 54.359999999999985, 'gini = 0.0\\nsamples = 28\\nvalue = [28, 0]'),\n",
              " Text(284.7230769230769, 78.52000000000001, 'X[3] <= 8.388\\ngini = 0.306\\nsamples = 53\\nvalue = [43, 10]'),\n",
              " Text(273.2769230769231, 66.44, 'X[2] <= 30.0\\ngini = 0.5\\nsamples = 12\\nvalue = [6, 6]'),\n",
              " Text(267.55384615384617, 54.359999999999985, 'X[0] <= 294.5\\ngini = 0.469\\nsamples = 8\\nvalue = [5, 3]'),\n",
              " Text(264.6923076923077, 42.28, 'gini = 0.0\\nsamples = 2\\nvalue = [0, 2]'),\n",
              " Text(270.4153846153846, 42.28, 'X[3] <= 8.081\\ngini = 0.278\\nsamples = 6\\nvalue = [5, 1]'),\n",
              " Text(267.55384615384617, 30.19999999999999, 'gini = 0.0\\nsamples = 5\\nvalue = [5, 0]'),\n",
              " Text(273.2769230769231, 30.19999999999999, 'gini = 0.0\\nsamples = 1\\nvalue = [0, 1]'),\n",
              " Text(279.0, 54.359999999999985, 'X[2] <= 48.0\\ngini = 0.375\\nsamples = 4\\nvalue = [1, 3]'),\n",
              " Text(276.13846153846157, 42.28, 'gini = 0.0\\nsamples = 3\\nvalue = [0, 3]'),\n",
              " Text(281.8615384615385, 42.28, 'gini = 0.0\\nsamples = 1\\nvalue = [1, 0]'),\n",
              " Text(296.16923076923075, 66.44, 'X[0] <= 305.5\\ngini = 0.176\\nsamples = 41\\nvalue = [37, 4]'),\n",
              " Text(293.3076923076923, 54.359999999999985, 'X[0] <= 286.5\\ngini = 0.308\\nsamples = 21\\nvalue = [17, 4]'),\n",
              " Text(287.5846153846154, 42.28, 'X[2] <= 20.5\\ngini = 0.111\\nsamples = 17\\nvalue = [16, 1]'),\n",
              " Text(284.7230769230769, 30.19999999999999, 'X[2] <= 18.5\\ngini = 0.375\\nsamples = 4\\nvalue = [3, 1]'),\n",
              " Text(281.8615384615385, 18.120000000000005, 'gini = 0.0\\nsamples = 3\\nvalue = [3, 0]'),\n",
              " Text(287.5846153846154, 18.120000000000005, 'gini = 0.0\\nsamples = 1\\nvalue = [0, 1]'),\n",
              " Text(290.44615384615383, 30.19999999999999, 'gini = 0.0\\nsamples = 13\\nvalue = [13, 0]'),\n",
              " Text(299.03076923076924, 42.28, 'X[1] <= 2.5\\ngini = 0.375\\nsamples = 4\\nvalue = [1, 3]'),\n",
              " Text(296.16923076923075, 30.19999999999999, 'X[0] <= 291.0\\ngini = 0.5\\nsamples = 2\\nvalue = [1, 1]'),\n",
              " Text(293.3076923076923, 18.120000000000005, 'gini = 0.0\\nsamples = 1\\nvalue = [0, 1]'),\n",
              " Text(299.03076923076924, 18.120000000000005, 'gini = 0.0\\nsamples = 1\\nvalue = [1, 0]'),\n",
              " Text(301.8923076923077, 30.19999999999999, 'gini = 0.0\\nsamples = 2\\nvalue = [0, 2]'),\n",
              " Text(299.03076923076924, 54.359999999999985, 'gini = 0.0\\nsamples = 20\\nvalue = [20, 0]'),\n",
              " Text(251.81538461538463, 114.75999999999999, 'gini = 0.0\\nsamples = 1\\nvalue = [0, 1]'),\n",
              " Text(277.5692307692308, 126.84, 'X[2] <= 28.5\\ngini = 0.059\\nsamples = 33\\nvalue = [32, 1]'),\n",
              " Text(274.7076923076923, 114.75999999999999, 'gini = 0.0\\nsamples = 23\\nvalue = [23, 0]'),\n",
              " Text(280.4307692307692, 114.75999999999999, 'X[2] <= 29.5\\ngini = 0.18\\nsamples = 10\\nvalue = [9, 1]'),\n",
              " Text(277.5692307692308, 102.67999999999999, 'X[3] <= 7.398\\ngini = 0.5\\nsamples = 2\\nvalue = [1, 1]'),\n",
              " Text(274.7076923076923, 90.6, 'gini = 0.0\\nsamples = 1\\nvalue = [1, 0]'),\n",
              " Text(280.4307692307692, 90.6, 'gini = 0.0\\nsamples = 1\\nvalue = [0, 1]'),\n",
              " Text(283.2923076923077, 102.67999999999999, 'gini = 0.0\\nsamples = 8\\nvalue = [8, 0]'),\n",
              " Text(286.15384615384613, 138.92000000000002, 'X[0] <= 548.5\\ngini = 0.375\\nsamples = 12\\nvalue = [9, 3]'),\n",
              " Text(283.2923076923077, 126.84, 'gini = 0.0\\nsamples = 2\\nvalue = [0, 2]'),\n",
              " Text(289.0153846153846, 126.84, 'X[3] <= 7.227\\ngini = 0.18\\nsamples = 10\\nvalue = [9, 1]'),\n",
              " Text(286.15384615384613, 114.75999999999999, 'gini = 0.0\\nsamples = 1\\nvalue = [0, 1]'),\n",
              " Text(291.8769230769231, 114.75999999999999, 'gini = 0.0\\nsamples = 9\\nvalue = [9, 0]'),\n",
              " Text(294.73846153846154, 151.0, 'X[3] <= 12.5\\ngini = 0.375\\nsamples = 4\\nvalue = [1, 3]'),\n",
              " Text(291.8769230769231, 138.92000000000002, 'gini = 0.0\\nsamples = 3\\nvalue = [0, 3]'),\n",
              " Text(297.6, 138.92000000000002, 'gini = 0.0\\nsamples = 1\\nvalue = [1, 0]'),\n",
              " Text(319.7769230769231, 163.07999999999998, 'X[2] <= 32.5\\ngini = 0.109\\nsamples = 121\\nvalue = [114, 7]'),\n",
              " Text(316.9153846153846, 151.0, 'X[2] <= 30.75\\ngini = 0.153\\nsamples = 84\\nvalue = [77, 7]'),\n",
              " Text(307.61538461538464, 138.92000000000002, 'X[3] <= 7.013\\ngini = 0.101\\nsamples = 75\\nvalue = [71, 4]'),\n",
              " Text(300.46153846153845, 126.84, 'X[3] <= 6.962\\ngini = 0.375\\nsamples = 4\\nvalue = [3, 1]'),\n",
              " Text(297.6, 114.75999999999999, 'gini = 0.0\\nsamples = 3\\nvalue = [3, 0]'),\n",
              " Text(303.32307692307694, 114.75999999999999, 'gini = 0.0\\nsamples = 1\\nvalue = [0, 1]'),\n",
              " Text(314.7692307692308, 126.84, 'X[2] <= 20.5\\ngini = 0.081\\nsamples = 71\\nvalue = [68, 3]'),\n",
              " Text(309.04615384615386, 114.75999999999999, 'X[2] <= 19.5\\ngini = 0.188\\nsamples = 19\\nvalue = [17, 2]'),\n",
              " Text(306.18461538461537, 102.67999999999999, 'gini = 0.0\\nsamples = 13\\nvalue = [13, 0]'),\n",
              " Text(311.9076923076923, 102.67999999999999, 'X[3] <= 8.294\\ngini = 0.444\\nsamples = 6\\nvalue = [4, 2]'),\n",
              " Text(309.04615384615386, 90.6, 'X[0] <= 802.0\\ngini = 0.444\\nsamples = 3\\nvalue = [1, 2]'),\n",
              " Text(306.18461538461537, 78.52000000000001, 'gini = 0.0\\nsamples = 2\\nvalue = [0, 2]'),\n",
              " Text(311.9076923076923, 78.52000000000001, 'gini = 0.0\\nsamples = 1\\nvalue = [1, 0]'),\n",
              " Text(314.7692307692308, 90.6, 'gini = 0.0\\nsamples = 3\\nvalue = [3, 0]'),\n",
              " Text(320.4923076923077, 114.75999999999999, 'X[3] <= 14.873\\ngini = 0.038\\nsamples = 52\\nvalue = [51, 1]'),\n",
              " Text(317.63076923076926, 102.67999999999999, 'gini = 0.0\\nsamples = 40\\nvalue = [40, 0]'),\n",
              " Text(323.3538461538462, 102.67999999999999, 'X[3] <= 15.373\\ngini = 0.153\\nsamples = 12\\nvalue = [11, 1]'),\n",
              " Text(320.4923076923077, 90.6, 'gini = 0.0\\nsamples = 1\\nvalue = [0, 1]'),\n",
              " Text(326.2153846153846, 90.6, 'gini = 0.0\\nsamples = 11\\nvalue = [11, 0]'),\n",
              " Text(326.2153846153846, 138.92000000000002, 'X[0] <= 670.0\\ngini = 0.444\\nsamples = 9\\nvalue = [6, 3]'),\n",
              " Text(323.3538461538462, 126.84, 'gini = 0.0\\nsamples = 3\\nvalue = [3, 0]'),\n",
              " Text(329.0769230769231, 126.84, 'X[3] <= 7.85\\ngini = 0.5\\nsamples = 6\\nvalue = [3, 3]'),\n",
              " Text(326.2153846153846, 114.75999999999999, 'gini = 0.0\\nsamples = 3\\nvalue = [3, 0]'),\n",
              " Text(331.9384615384615, 114.75999999999999, 'gini = 0.0\\nsamples = 3\\nvalue = [0, 3]'),\n",
              " Text(322.63846153846157, 151.0, 'gini = 0.0\\nsamples = 37\\nvalue = [37, 0]')]"
            ]
          },
          "metadata": {},
          "execution_count": 44
        },
        {
          "output_type": "display_data",
          "data": {
            "image/png": "[encoded data removed]",
            "text/plain": [
              "<Figure size 432x288 with 1 Axes>"
            ]
          },
          "metadata": {}
        }
      ]
    },
    {
      "cell_type": "code",
      "metadata": {
        "id": "os2ChkqbzMPf"
      },
      "source": [
        "y_pred_train=model.predict(X_train)\n",
        "y_pred_test=model.predict(X_test)"
      ],
      "execution_count": 45,
      "outputs": []
    },
    {
      "cell_type": "markdown",
      "metadata": {
        "id": "y6wFwZH-iwou"
      },
      "source": [
        "Model Evaluation using accuracy score"
      ]
    },
    {
      "cell_type": "code",
      "metadata": {
        "colab": {
          "base_uri": "https://localhost:8080/"
        },
        "id": "5-DafUqhi0u8",
        "outputId": "0a1cc299-07c8-4ffc-e22a-b18db6e66a5d"
      },
      "source": [
        "from sklearn.metrics import accuracy_score\n",
        "print(\"Accuracy score for test data is : \",accuracy_score(Y_test,y_pred_test))"
      ],
      "execution_count": 46,
      "outputs": [
        {
          "output_type": "stream",
          "name": "stdout",
          "text": [
            "Accuracy score for test data is :  0.7374301675977654\n"
          ]
        }
      ]
    }
  ]
}